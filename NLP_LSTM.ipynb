{
  "nbformat": 4,
  "nbformat_minor": 0,
  "metadata": {
    "colab": {
      "name": "NLP-LSTM.ipynb",
      "provenance": [],
      "authorship_tag": "ABX9TyOPcmTopR7T3BJJxhb3be45",
      "include_colab_link": true
    },
    "kernelspec": {
      "name": "python3",
      "display_name": "Python 3"
    },
    "language_info": {
      "name": "python"
    }
  },
  "cells": [
    {
      "cell_type": "markdown",
      "metadata": {
        "id": "view-in-github",
        "colab_type": "text"
      },
      "source": [
        "<a href=\"https://colab.research.google.com/github/pranshudiwan/NLP_CS_6200/blob/main/NLP_LSTM.ipynb\" target=\"_parent\"><img src=\"https://colab.research.google.com/assets/colab-badge.svg\" alt=\"Open In Colab\"/></a>"
      ]
    },
    {
      "cell_type": "code",
      "metadata": {
        "id": "T_CTLN--7s2J"
      },
      "source": [
        "# Sindhu Baseline LSTM"
      ],
      "execution_count": null,
      "outputs": []
    },
    {
      "cell_type": "markdown",
      "metadata": {
        "id": "Hk3zH57SFh9L"
      },
      "source": [
        "##Importing Libraries"
      ]
    },
    {
      "cell_type": "code",
      "metadata": {
        "id": "L3jYgblAhY41",
        "colab": {
          "base_uri": "https://localhost:8080/"
        },
        "outputId": "a01919e7-f284-4acb-bb9c-d75dd0a16d07"
      },
      "source": [
        "# Import Libraries\n",
        "import pandas as pd\n",
        "import matplotlib.pyplot as plt\n",
        "import seaborn as sns\n",
        "import numpy as np\n",
        "import wordcloud\n",
        "!pip install pyspellchecker\n",
        "from spellchecker import SpellChecker\n",
        "import math, os, re, time, random, string\n",
        "\n",
        "from sklearn.preprocessing import StandardScaler, MinMaxScaler, RobustScaler\n",
        "from keras.layers import Embedding, LSTM, Dense, SpatialDropout1D, Dropout, Concatenate, LeakyReLU\n",
        "from tqdm import tqdm\n",
        "from collections import defaultdict\n",
        "\n",
        "import tensorflow as tf"
      ],
      "execution_count": 1,
      "outputs": [
        {
          "output_type": "stream",
          "text": [
            "Collecting pyspellchecker\n",
            "\u001b[?25l  Downloading https://files.pythonhosted.org/packages/64/c7/435f49c0ac6bec031d1aba4daf94dc21dc08a9db329692cdb77faac51cea/pyspellchecker-0.6.2-py3-none-any.whl (2.7MB)\n",
            "\u001b[K     |████████████████████████████████| 2.7MB 6.6MB/s \n",
            "\u001b[?25hInstalling collected packages: pyspellchecker\n",
            "Successfully installed pyspellchecker-0.6.2\n"
          ],
          "name": "stdout"
        }
      ]
    },
    {
      "cell_type": "code",
      "metadata": {
        "id": "PRdjpqlfO-H6"
      },
      "source": [
        "def seed_everything(seed):\n",
        "    os.environ['PYTHONHASHSEED']=str(seed)\n",
        "    tf.random.set_seed(seed)\n",
        "    np.random.seed(seed)\n",
        "    random.seed(seed)\n",
        "    \n",
        "seed_everything(34)"
      ],
      "execution_count": null,
      "outputs": []
    },
    {
      "cell_type": "markdown",
      "metadata": {
        "id": "tNapdC3yGbFi"
      },
      "source": [
        "## Downloading Glove words vectors files"
      ]
    },
    {
      "cell_type": "code",
      "metadata": {
        "colab": {
          "base_uri": "https://localhost:8080/"
        },
        "id": "MSLQT8CxF5sZ",
        "outputId": "4b408365-0f87-44be-9a1d-71d128569fcb"
      },
      "source": [
        "!wget http://nlp.stanford.edu/data/glove.6B.zip\n",
        "!unzip glove*.zip"
      ],
      "execution_count": 2,
      "outputs": [
        {
          "output_type": "stream",
          "text": [
            "--2021-04-29 17:44:02--  http://nlp.stanford.edu/data/glove.6B.zip\n",
            "Resolving nlp.stanford.edu (nlp.stanford.edu)... 171.64.67.140\n",
            "Connecting to nlp.stanford.edu (nlp.stanford.edu)|171.64.67.140|:80... connected.\n",
            "HTTP request sent, awaiting response... 302 Found\n",
            "Location: https://nlp.stanford.edu/data/glove.6B.zip [following]\n",
            "--2021-04-29 17:44:02--  https://nlp.stanford.edu/data/glove.6B.zip\n",
            "Connecting to nlp.stanford.edu (nlp.stanford.edu)|171.64.67.140|:443... connected.\n",
            "HTTP request sent, awaiting response... 301 Moved Permanently\n",
            "Location: http://downloads.cs.stanford.edu/nlp/data/glove.6B.zip [following]\n",
            "--2021-04-29 17:44:02--  http://downloads.cs.stanford.edu/nlp/data/glove.6B.zip\n",
            "Resolving downloads.cs.stanford.edu (downloads.cs.stanford.edu)... 171.64.64.22\n",
            "Connecting to downloads.cs.stanford.edu (downloads.cs.stanford.edu)|171.64.64.22|:80... connected.\n",
            "HTTP request sent, awaiting response... 200 OK\n",
            "Length: 862182613 (822M) [application/zip]\n",
            "Saving to: ‘glove.6B.zip’\n",
            "\n",
            "glove.6B.zip        100%[===================>] 822.24M  5.03MB/s    in 2m 40s  \n",
            "\n",
            "2021-04-29 17:46:43 (5.13 MB/s) - ‘glove.6B.zip’ saved [862182613/862182613]\n",
            "\n",
            "Archive:  glove.6B.zip\n",
            "  inflating: glove.6B.50d.txt        \n",
            "  inflating: glove.6B.100d.txt       \n",
            "  inflating: glove.6B.200d.txt       \n",
            "  inflating: glove.6B.300d.txt       \n"
          ],
          "name": "stdout"
        }
      ]
    },
    {
      "cell_type": "markdown",
      "metadata": {
        "id": "wOh7BEWjG0qS"
      },
      "source": [
        "##Importing train and test data"
      ]
    },
    {
      "cell_type": "code",
      "metadata": {
        "id": "wALKsHMihe0w"
      },
      "source": [
        "# Import train data\n",
        "url_train = 'https://raw.githubusercontent.com/pranshudiwan/NLP_CS_6200/main/train.csv'\n",
        "train = pd.read_csv(url_train)\n",
        "\n",
        "# Import est data\n",
        "url_test = 'https://raw.githubusercontent.com/pranshudiwan/NLP_CS_6200/main/test.csv'\n",
        "test   = pd.read_csv(url_test)"
      ],
      "execution_count": 3,
      "outputs": []
    },
    {
      "cell_type": "markdown",
      "metadata": {
        "id": "prVPTZ5pHlaH"
      },
      "source": [
        "##Fill missing values"
      ]
    },
    {
      "cell_type": "code",
      "metadata": {
        "id": "yvk89PerInT1"
      },
      "source": [
        "train['keyword'] = train['keyword'].fillna('unknown')\n",
        "test['keyword'] = test['keyword'].fillna('unknown')"
      ],
      "execution_count": 4,
      "outputs": []
    },
    {
      "cell_type": "markdown",
      "metadata": {
        "id": "JKsi8TWYKuly"
      },
      "source": [
        "##Single DataFrame"
      ]
    },
    {
      "cell_type": "code",
      "metadata": {
        "id": "zIgjSjvoBZ0q"
      },
      "source": [
        "#save ID\n",
        "test_id = test['id']\n",
        "\n",
        "#drop from train and test\n",
        "columns = {'id', 'location'}\n",
        "train = train.drop(columns = columns)\n",
        "test = test.drop(columns = columns)\n",
        "\n",
        "#add keyword to tweets\n",
        "train['text'] = train['text'] + ' ' + train['keyword']\n",
        "test['text'] = test['text'] + ' ' + test['keyword']\n",
        "\n",
        "#drop fkeyword rom train and test\n",
        "columns = {'keyword'}\n",
        "train = train.drop(columns = columns)\n",
        "test = test.drop(columns = columns)\n",
        "\n",
        "#combine so we work smarter, not harder\n",
        "total = train.append(test)"
      ],
      "execution_count": 5,
      "outputs": []
    },
    {
      "cell_type": "markdown",
      "metadata": {
        "id": "IU79BZhSl9Jc"
      },
      "source": [
        "## Visualization\n",
        "- Class Distribution (number of tweets in each class)\n",
        "- Number of characters in tweets\n",
        "- Number of words in tweets\n",
        "- Average length of word in a tweet"
      ]
    },
    {
      "cell_type": "code",
      "metadata": {
        "colab": {
          "base_uri": "https://localhost:8080/",
          "height": 333
        },
        "id": "FpkvjySDjYba",
        "outputId": "eb18abe3-0b6e-4842-851f-099519f865ee"
      },
      "source": [
        "# Class distribution\n",
        "class_counts=total.target.value_counts()\n",
        "sns.barplot(x=class_counts.index,y=class_counts)\n",
        "plt.gca().set_ylabel('Data')\n",
        "\n",
        "print(class_counts , \"\\n\")"
      ],
      "execution_count": 6,
      "outputs": [
        {
          "output_type": "stream",
          "text": [
            "0.0    4342\n",
            "1.0    3271\n",
            "Name: target, dtype: int64 \n",
            "\n"
          ],
          "name": "stdout"
        },
        {
          "output_type": "display_data",
          "data": {
            "image/png": "[encoded data removed]",
            "text/plain": [
              "<Figure size 432x288 with 1 Axes>"
            ]
          },
          "metadata": {
            "tags": [],
            "needs_background": "light"
          }
        }
      ]
    },
    {
      "cell_type": "code",
      "metadata": {
        "colab": {
          "base_uri": "https://localhost:8080/",
          "height": 519
        },
        "id": "5p0fgmdIU1Lj",
        "outputId": "01e4af5e-2ccf-4b6d-9ee8-42fc9b078fc0"
      },
      "source": [
        "# Number of characters in tweets\n",
        "train = total[:len(train)]\n",
        "train['character_count'] = train['text'].apply(lambda word: len(word))\n",
        "\n",
        "\n",
        "# For Disaster tweets\n",
        "disaster_tweet_len=train[train['target']==1]['character_count']\n",
        "#print(disaster_tweet_len)\n",
        "non_disaster_tweet_len=train[train['target']==0]['character_count']\n",
        "#print(non_disaster_tweet_len)\n",
        "\n",
        "\n",
        "# plotting\n",
        "plot,(subplot1,subplot2)=plt.subplots(1,2,figsize=(12,6))\n",
        "subplot1.hist(disaster_tweet_len,color='red')\n",
        "subplot1.set_title('Disaster tweets')\n",
        "subplot2.hist(non_disaster_tweet_len,color='green')\n",
        "subplot2.set_title('Non disaster tweets')\n",
        "plot.suptitle('Number of characters in tweets')\n",
        "plt.show()"
      ],
      "execution_count": 7,
      "outputs": [
        {
          "output_type": "stream",
          "text": [
            "/usr/local/lib/python3.7/dist-packages/ipykernel_launcher.py:3: SettingWithCopyWarning: \n",
            "A value is trying to be set on a copy of a slice from a DataFrame.\n",
            "Try using .loc[row_indexer,col_indexer] = value instead\n",
            "\n",
            "See the caveats in the documentation: https://pandas.pydata.org/pandas-docs/stable/user_guide/indexing.html#returning-a-view-versus-a-copy\n",
            "  This is separate from the ipykernel package so we can avoid doing imports until\n"
          ],
          "name": "stderr"
        },
        {
          "output_type": "display_data",
          "data": {
            "image/png": "[encoded data removed]",
            "text/plain": [
              "<Figure size 864x432 with 2 Axes>"
            ]
          },
          "metadata": {
            "tags": [],
            "needs_background": "light"
          }
        }
      ]
    },
    {
      "cell_type": "code",
      "metadata": {
        "colab": {
          "base_uri": "https://localhost:8080/",
          "height": 417
        },
        "id": "4q9KSfV1lyAG",
        "outputId": "188a841a-70b8-46db-e394-2f5416aedf8e"
      },
      "source": [
        "# Number of words in tweets\n",
        "\n",
        "# For Disaster tweets\n",
        "disaster_no_of_words=train[train['target']==1]['text'].str.split().map(lambda tweet : len(tweet))\n",
        "#print(disaster_no_of_words)\n",
        "non_disaster_no_of_words=train[train['target']==0]['text'].str.split().map(lambda tweet : len(tweet))\n",
        "#print(non_disaster_no_of_words)\n",
        "\n",
        "\n",
        "# Plotting number of words\n",
        "plot,(subplot1,subplot2)=plt.subplots(1,2,figsize=(12,6))\n",
        "subplot1.hist(disaster_no_of_words,color='red')\n",
        "subplot1.set_title('Disaster tweets')\n",
        "subplot2.hist(non_disaster_no_of_words,color='green')\n",
        "subplot2.set_title('Non disaster tweets')\n",
        "plot.suptitle('Number of words in tweets')\n",
        "plt.show()"
      ],
      "execution_count": 8,
      "outputs": [
        {
          "output_type": "display_data",
          "data": {
            "image/png": "[encoded data removed]",
            "text/plain": [
              "<Figure size 864x432 with 2 Axes>"
            ]
          },
          "metadata": {
            "tags": [],
            "needs_background": "light"
          }
        }
      ]
    },
    {
      "cell_type": "code",
      "metadata": {
        "colab": {
          "base_uri": "https://localhost:8080/",
          "height": 431
        },
        "id": "3aColNXSlz8b",
        "outputId": "eeefb21d-6bbd-4654-f31a-cce04ec61f45"
      },
      "source": [
        "# For Disaster tweets\n",
        "disaster_word_len=train[train['target']==1]['text'].str.split().apply(lambda tweet : [len(word) for word in tweet])\n",
        "# print(disaster_word_len)\n",
        "#print('Average word length of disaster tweets', disaster_word_len.map(lambda word_len: np.mean(word_len)))\n",
        "non_disaster_word_len=train[train['target']==0]['text'].str.split().apply(lambda tweet : [len(word) for word in tweet])\n",
        "# print(non_disaster_word_len)\n",
        "#print('Average word length of non disaster tweets', non_disaster_word_len.map(lambda word_len: np.mean(word_len)))\n",
        "\n",
        "# Plotting number of words\n",
        "plot,(subplot1,subplot2)=plt.subplots(1,2,figsize=(12,6))\n",
        "sns.histplot(disaster_word_len.map(lambda word_len: np.mean(word_len)),ax=subplot1,color='red')\n",
        "subplot1.set_title('Disaster tweets')\n",
        "\n",
        "sns.histplot(non_disaster_word_len.map(lambda word_len: np.mean(word_len)),ax=subplot2,color='green')\n",
        "subplot2.set_title('Non disaster tweets')\n",
        "plot.suptitle('Average word length in a tweet')\n",
        "plt.show()"
      ],
      "execution_count": 9,
      "outputs": [
        {
          "output_type": "display_data",
          "data": {
            "image/png": "[encoded data removed]",
            "text/plain": [
              "<Figure size 864x432 with 2 Axes>"
            ]
          },
          "metadata": {
            "tags": [],
            "needs_background": "light"
          }
        }
      ]
    },
    {
      "cell_type": "code",
      "metadata": {
        "colab": {
          "base_uri": "https://localhost:8080/",
          "height": 204
        },
        "id": "wNUpTJoSVYoq",
        "outputId": "c289ddb6-71e6-4ba0-cd03-eed4de609924"
      },
      "source": [
        "total.head()"
      ],
      "execution_count": 10,
      "outputs": [
        {
          "output_type": "execute_result",
          "data": {
            "text/html": [
              "<div>\n",
              "<style scoped>\n",
              "    .dataframe tbody tr th:only-of-type {\n",
              "        vertical-align: middle;\n",
              "    }\n",
              "\n",
              "    .dataframe tbody tr th {\n",
              "        vertical-align: top;\n",
              "    }\n",
              "\n",
              "    .dataframe thead th {\n",
              "        text-align: right;\n",
              "    }\n",
              "</style>\n",
              "<table border=\"1\" class=\"dataframe\">\n",
              "  <thead>\n",
              "    <tr style=\"text-align: right;\">\n",
              "      <th></th>\n",
              "      <th>text</th>\n",
              "      <th>target</th>\n",
              "    </tr>\n",
              "  </thead>\n",
              "  <tbody>\n",
              "    <tr>\n",
              "      <th>0</th>\n",
              "      <td>Our Deeds are the Reason of this #earthquake M...</td>\n",
              "      <td>1.0</td>\n",
              "    </tr>\n",
              "    <tr>\n",
              "      <th>1</th>\n",
              "      <td>Forest fire near La Ronge Sask. Canada unknown</td>\n",
              "      <td>1.0</td>\n",
              "    </tr>\n",
              "    <tr>\n",
              "      <th>2</th>\n",
              "      <td>All residents asked to 'shelter in place' are ...</td>\n",
              "      <td>1.0</td>\n",
              "    </tr>\n",
              "    <tr>\n",
              "      <th>3</th>\n",
              "      <td>13,000 people receive #wildfires evacuation or...</td>\n",
              "      <td>1.0</td>\n",
              "    </tr>\n",
              "    <tr>\n",
              "      <th>4</th>\n",
              "      <td>Just got sent this photo from Ruby #Alaska as ...</td>\n",
              "      <td>1.0</td>\n",
              "    </tr>\n",
              "  </tbody>\n",
              "</table>\n",
              "</div>"
            ],
            "text/plain": [
              "                                                text  target\n",
              "0  Our Deeds are the Reason of this #earthquake M...     1.0\n",
              "1     Forest fire near La Ronge Sask. Canada unknown     1.0\n",
              "2  All residents asked to 'shelter in place' are ...     1.0\n",
              "3  13,000 people receive #wildfires evacuation or...     1.0\n",
              "4  Just got sent this photo from Ruby #Alaska as ...     1.0"
            ]
          },
          "metadata": {
            "tags": []
          },
          "execution_count": 10
        }
      ]
    },
    {
      "cell_type": "markdown",
      "metadata": {
        "id": "oSkKRYbbsP9V"
      },
      "source": [
        "## Data Cleaning for LSTM\n",
        "- Remove punctuation\n",
        "- Remove stopwords\n",
        "- Remove non alphabets\n",
        "- Remove emojis\n",
        "- Spellcheck each word\n",
        "- Expanding all slangs, acronyms and abbreviations"
      ]
    },
    {
      "cell_type": "code",
      "metadata": {
        "id": "6IaEvoDasL9F",
        "cellView": "form"
      },
      "source": [
        "#@title\n",
        "def remove_punctuation(data):\n",
        "    return data.translate(str.maketrans('', '', string.punctuation))"
      ],
      "execution_count": null,
      "outputs": []
    },
    {
      "cell_type": "code",
      "metadata": {
        "id": "PirW3TIjt12c",
        "cellView": "form"
      },
      "source": [
        "#@title\n",
        "def remove_stopwords(data):\n",
        "    return ' '.join([word for word in data.split() if word not in wordcloud.STOPWORDS]) # using wordcloud stopwords instead of nltk stopwords"
      ],
      "execution_count": null,
      "outputs": []
    },
    {
      "cell_type": "code",
      "metadata": {
        "id": "N-ZrMK7euR2P",
        "cellView": "form"
      },
      "source": [
        "#@title\n",
        "def remove_non_alphabet(data):\n",
        "    return ' '.join([word for word in data.split() if word.isalpha()])"
      ],
      "execution_count": null,
      "outputs": []
    },
    {
      "cell_type": "code",
      "metadata": {
        "id": "5fdHKf5zub-l",
        "cellView": "form"
      },
      "source": [
        "#@title\n",
        "spell = SpellChecker()\n",
        "def correct_spellings(text):\n",
        "    corrected_text = []\n",
        "    misspelled_words = spell.unknown(text.split())\n",
        "    for word in text.split():\n",
        "        if word in misspelled_words:\n",
        "            corrected_text.append(spell.correction(word))\n",
        "        else:\n",
        "            corrected_text.append(word)\n",
        "    return \" \".join(corrected_text)"
      ],
      "execution_count": null,
      "outputs": []
    },
    {
      "cell_type": "code",
      "metadata": {
        "id": "lB5nXw2VxGLo",
        "cellView": "form"
      },
      "source": [
        "#@title\n",
        "def remove_emoji(text):\n",
        "    emoji_pattern = re.compile(\"[\"\n",
        "                           u\"\\U0001F600-\\U0001F64F\"  # emoticons\n",
        "                           u\"\\U0001F300-\\U0001F5FF\"  # symbols & pictographs\n",
        "                           u\"\\U0001F680-\\U0001F6FF\"  # transport & map symbols\n",
        "                           u\"\\U0001F1E0-\\U0001F1FF\"  # flags (iOS)\n",
        "                           u\"\\U00002702-\\U000027B0\"\n",
        "                           u\"\\U000024C2-\\U0001F251\"\n",
        "                           \"]+\", flags=re.UNICODE)\n",
        "    return emoji_pattern.sub(r'', text)"
      ],
      "execution_count": null,
      "outputs": []
    },
    {
      "cell_type": "code",
      "metadata": {
        "id": "m2OLScdNxy0K",
        "cellView": "form"
      },
      "source": [
        "#@title\n",
        "def expand_slang_abbr_acronyms(text):\n",
        "        \"\"\"\n",
        "            Other manual text cleaning techniques\n",
        "        \"\"\"\n",
        "        # Typos, slang and other\n",
        "        sample_typos_slang = {\n",
        "                                \"w/e\": \"whatever\",\n",
        "                                \"usagov\": \"usa government\",\n",
        "                                \"recentlu\": \"recently\",\n",
        "                                \"ph0tos\": \"photos\",\n",
        "                                \"amirite\": \"am i right\",\n",
        "                                \"exp0sed\": \"exposed\",\n",
        "                                \"<3\": \"love\",\n",
        "                                \"luv\": \"love\",\n",
        "                                \"amageddon\": \"armageddon\",\n",
        "                                \"trfc\": \"traffic\",\n",
        "                                \"16yr\": \"16 year\"\n",
        "                                }\n",
        "\n",
        "        # Acronyms\n",
        "        sample_acronyms =  { \n",
        "                            \"mh370\": \"malaysia airlines flight 370\",\n",
        "                            \"okwx\": \"oklahoma city weather\",\n",
        "                            \"arwx\": \"arkansas weather\",    \n",
        "                            \"gawx\": \"georgia weather\",  \n",
        "                            \"scwx\": \"south carolina weather\",  \n",
        "                            \"cawx\": \"california weather\",\n",
        "                            \"tnwx\": \"tennessee weather\",\n",
        "                            \"azwx\": \"arizona weather\",  \n",
        "                            \"alwx\": \"alabama weather\",\n",
        "                            \"usnwsgov\": \"united states national weather service\",\n",
        "                            \"2mw\": \"tomorrow\"\n",
        "                            }\n",
        "\n",
        "        \n",
        "        # Some common abbreviations \n",
        "        sample_abbr = {\n",
        "                        \"$\" : \" dollar \",\n",
        "                        \"€\" : \" euro \",\n",
        "                        \"4ao\" : \"for adults only\",\n",
        "                        \"a.m\" : \"before midday\",\n",
        "                        \"a3\" : \"anytime anywhere anyplace\",\n",
        "                        \"aamof\" : \"as a matter of fact\",\n",
        "                        \"acct\" : \"account\",\n",
        "                        \"adih\" : \"another day in hell\",\n",
        "                        \"afaic\" : \"as far as i am concerned\",\n",
        "                        \"afaict\" : \"as far as i can tell\",\n",
        "                        \"afaik\" : \"as far as i know\",\n",
        "                        \"afair\" : \"as far as i remember\",\n",
        "                        \"afk\" : \"away from keyboard\",\n",
        "                        \"app\" : \"application\",\n",
        "                        \"approx\" : \"approximately\",\n",
        "                        \"apps\" : \"applications\",\n",
        "                        \"asap\" : \"as soon as possible\",\n",
        "                        \"asl\" : \"age, sex, location\",\n",
        "                        \"atk\" : \"at the keyboard\",\n",
        "                        \"ave.\" : \"avenue\",\n",
        "                        \"aymm\" : \"are you my mother\",\n",
        "                        \"ayor\" : \"at your own risk\", \n",
        "                        \"b&b\" : \"bed and breakfast\",\n",
        "                        \"b+b\" : \"bed and breakfast\",\n",
        "                        \"b.c\" : \"before christ\",\n",
        "                        \"b2b\" : \"business to business\",\n",
        "                        \"b2c\" : \"business to customer\",\n",
        "                        \"b4\" : \"before\",\n",
        "                        \"b4n\" : \"bye for now\",\n",
        "                        \"b@u\" : \"back at you\",\n",
        "                        \"bae\" : \"before anyone else\",\n",
        "                        \"bak\" : \"back at keyboard\",\n",
        "                        \"bbbg\" : \"bye bye be good\",\n",
        "                        \"bbc\" : \"british broadcasting corporation\",\n",
        "                        \"bbias\" : \"be back in a second\",\n",
        "                        \"bbl\" : \"be back later\",\n",
        "                        \"bbs\" : \"be back soon\",\n",
        "                        \"be4\" : \"before\",\n",
        "                        \"bfn\" : \"bye for now\",\n",
        "                        \"blvd\" : \"boulevard\",\n",
        "                        \"bout\" : \"about\",\n",
        "                        \"brb\" : \"be right back\",\n",
        "                        \"bros\" : \"brothers\",\n",
        "                        \"brt\" : \"be right there\",\n",
        "                        \"bsaaw\" : \"big smile and a wink\",\n",
        "                        \"btw\" : \"by the way\",\n",
        "                        \"bwl\" : \"bursting with laughter\",\n",
        "                        \"c/o\" : \"care of\",\n",
        "                        \"cet\" : \"central european time\",\n",
        "                        \"cf\" : \"compare\",\n",
        "                        \"cia\" : \"central intelligence agency\",\n",
        "                        \"csl\" : \"can not stop laughing\",\n",
        "                        \"cu\" : \"see you\",\n",
        "                        \"cul8r\" : \"see you later\",\n",
        "                        \"cv\" : \"curriculum vitae\",\n",
        "                        \"cwot\" : \"complete waste of time\",\n",
        "                        \"cya\" : \"see you\",\n",
        "                        \"cyt\" : \"see you tomorrow\",\n",
        "                        \"dae\" : \"does anyone else\",\n",
        "                        \"dbmib\" : \"do not bother me i am busy\",\n",
        "                        \"diy\" : \"do it yourself\",\n",
        "                        \"dm\" : \"direct message\",\n",
        "                        \"dwh\" : \"during work hours\",\n",
        "                        \"e123\" : \"easy as one two three\",\n",
        "                        \"eet\" : \"eastern european time\",\n",
        "                        \"eg\" : \"example\",\n",
        "                        \"embm\" : \"early morning business meeting\",\n",
        "                        \"encl\" : \"enclosed\",\n",
        "                        \"encl.\" : \"enclosed\",\n",
        "                        \"etc\" : \"and so on\",\n",
        "                        \"faq\" : \"frequently asked questions\",\n",
        "                        \"fawc\" : \"for anyone who cares\",\n",
        "                        \"fb\" : \"facebook\",\n",
        "                        \"fc\" : \"fingers crossed\",\n",
        "                        \"fig\" : \"figure\",\n",
        "                        \"fimh\" : \"forever in my heart\", \n",
        "                        \"ft.\" : \"feet\",\n",
        "                        \"ft\" : \"featuring\",\n",
        "                        \"ftl\" : \"for the loss\",\n",
        "                        \"ftw\" : \"for the win\",\n",
        "                        \"fwiw\" : \"for what it is worth\",\n",
        "                        \"fyi\" : \"for your information\",\n",
        "                        \"g9\" : \"genius\",\n",
        "                        \"gahoy\" : \"get a hold of yourself\",\n",
        "                        \"gal\" : \"get a life\",\n",
        "                        \"gcse\" : \"general certificate of secondary education\",\n",
        "                        \"gfn\" : \"gone for now\",\n",
        "                        \"gg\" : \"good game\",\n",
        "                        \"gl\" : \"good luck\",\n",
        "                        \"glhf\" : \"good luck have fun\",\n",
        "                        \"gmt\" : \"greenwich mean time\",\n",
        "                        \"gmta\" : \"great minds think alike\",\n",
        "                        \"gn\" : \"good night\",\n",
        "                        \"g.o.a.t\" : \"greatest of all time\",\n",
        "                        \"goat\" : \"greatest of all time\",\n",
        "                        \"goi\" : \"get over it\",\n",
        "                        \"gps\" : \"global positioning system\",\n",
        "                        \"gr8\" : \"great\",\n",
        "                        \"gratz\" : \"congratulations\",\n",
        "                        \"gyal\" : \"girl\",\n",
        "                        \"h&c\" : \"hot and cold\",\n",
        "                        \"hp\" : \"horsepower\",\n",
        "                        \"hr\" : \"hour\",\n",
        "                        \"hrh\" : \"his royal highness\",\n",
        "                        \"ht\" : \"height\",\n",
        "                        \"ibrb\" : \"i will be right back\",\n",
        "                        \"ic\" : \"i see\",\n",
        "                        \"icq\" : \"i seek you\",\n",
        "                        \"icymi\" : \"in case you missed it\",\n",
        "                        \"idc\" : \"i do not care\",\n",
        "                        \"idgadf\" : \"i do not give a damn fuck\",\n",
        "                        \"idgaf\" : \"i do not give a fuck\",\n",
        "                        \"idk\" : \"i do not know\",\n",
        "                        \"ie\" : \"that is\",\n",
        "                        \"i.e\" : \"that is\",\n",
        "                        \"ifyp\" : \"i feel your pain\",\n",
        "                        \"IG\" : \"instagram\",\n",
        "                        \"iirc\" : \"if i remember correctly\",\n",
        "                        \"ilu\" : \"i love you\",\n",
        "                        \"ily\" : \"i love you\",\n",
        "                        \"imho\" : \"in my humble opinion\",\n",
        "                        \"imo\" : \"in my opinion\",\n",
        "                        \"imu\" : \"i miss you\",\n",
        "                        \"iow\" : \"in other words\",\n",
        "                        \"irl\" : \"in real life\",\n",
        "                        \"j4f\" : \"just for fun\",\n",
        "                        \"jic\" : \"just in case\",\n",
        "                        \"jk\" : \"just kidding\",\n",
        "                        \"jsyk\" : \"just so you know\",\n",
        "                        \"l8r\" : \"later\",\n",
        "                        \"lb\" : \"pound\",\n",
        "                        \"lbs\" : \"pounds\",\n",
        "                        \"ldr\" : \"long distance relationship\",\n",
        "                        \"lmao\" : \"laugh my ass off\",\n",
        "                        \"lmfao\" : \"laugh my fucking ass off\",\n",
        "                        \"lol\" : \"laughing out loud\",\n",
        "                        \"ltd\" : \"limited\",\n",
        "                        \"ltns\" : \"long time no see\",\n",
        "                        \"m8\" : \"mate\",\n",
        "                        \"mf\" : \"motherfucker\",\n",
        "                        \"mfs\" : \"motherfuckers\",\n",
        "                        \"mfw\" : \"my face when\",\n",
        "                        \"mofo\" : \"motherfucker\",\n",
        "                        \"mph\" : \"miles per hour\",\n",
        "                        \"mr\" : \"mister\",\n",
        "                        \"mrw\" : \"my reaction when\",\n",
        "                        \"ms\" : \"miss\",\n",
        "                        \"mte\" : \"my thoughts exactly\",\n",
        "                        \"nagi\" : \"not a good idea\",\n",
        "                        \"nbc\" : \"national broadcasting company\",\n",
        "                        \"nbd\" : \"not big deal\",\n",
        "                        \"nfs\" : \"not for sale\",\n",
        "                        \"ngl\" : \"not going to lie\",\n",
        "                        \"nhs\" : \"national health service\",\n",
        "                        \"nrn\" : \"no reply necessary\",\n",
        "                        \"nsfl\" : \"not safe for life\",\n",
        "                        \"nsfw\" : \"not safe for work\",\n",
        "                        \"nth\" : \"nice to have\",\n",
        "                        \"nvr\" : \"never\",\n",
        "                        \"nyc\" : \"new york city\",\n",
        "                        \"oc\" : \"original content\",\n",
        "                        \"og\" : \"original\",\n",
        "                        \"ohp\" : \"overhead projector\",\n",
        "                        \"oic\" : \"oh i see\",\n",
        "                        \"omdb\" : \"over my dead body\",\n",
        "                        \"omg\" : \"oh my god\",\n",
        "                        \"omw\" : \"on my way\",\n",
        "                        \"p.a\" : \"per annum\",\n",
        "                        \"p.m\" : \"after midday\",\n",
        "                        \"pm\" : \"prime minister\",\n",
        "                        \"poc\" : \"people of color\",\n",
        "                        \"pov\" : \"point of view\",\n",
        "                        \"pp\" : \"pages\",\n",
        "                        \"ppl\" : \"people\",\n",
        "                        \"prw\" : \"parents are watching\",\n",
        "                        \"ps\" : \"postscript\",\n",
        "                        \"pt\" : \"point\",\n",
        "                        \"ptb\" : \"please text back\",\n",
        "                        \"pto\" : \"please turn over\",\n",
        "                        \"qpsa\" : \"what happens\", #\"que pasa\",\n",
        "                        \"ratchet\" : \"rude\",\n",
        "                        \"rbtl\" : \"read between the lines\",\n",
        "                        \"rlrt\" : \"real life retweet\", \n",
        "                        \"rofl\" : \"rolling on the floor laughing\",\n",
        "                        \"roflol\" : \"rolling on the floor laughing out loud\",\n",
        "                        \"rotflmao\" : \"rolling on the floor laughing my ass off\",\n",
        "                        \"rt\" : \"retweet\",\n",
        "                        \"ruok\" : \"are you ok\",\n",
        "                        \"sfw\" : \"safe for work\",\n",
        "                        \"sk8\" : \"skate\",\n",
        "                        \"smh\" : \"shake my head\",\n",
        "                        \"sq\" : \"square\",\n",
        "                        \"srsly\" : \"seriously\", \n",
        "                        \"ssdd\" : \"same stuff different day\",\n",
        "                        \"tbh\" : \"to be honest\",\n",
        "                        \"tbs\" : \"tablespooful\",\n",
        "                        \"tbsp\" : \"tablespooful\",\n",
        "                        \"tfw\" : \"that feeling when\",\n",
        "                        \"thks\" : \"thank you\",\n",
        "                        \"tho\" : \"though\",\n",
        "                        \"thx\" : \"thank you\",\n",
        "                        \"tia\" : \"thanks in advance\",\n",
        "                        \"til\" : \"today i learned\",\n",
        "                        \"tl;dr\" : \"too long i did not read\",\n",
        "                        \"tldr\" : \"too long i did not read\",\n",
        "                        \"tmb\" : \"tweet me back\",\n",
        "                        \"tntl\" : \"trying not to laugh\",\n",
        "                        \"ttyl\" : \"talk to you later\",\n",
        "                        \"u\" : \"you\",\n",
        "                        \"u2\" : \"you too\",\n",
        "                        \"u4e\" : \"yours for ever\",\n",
        "                        \"utc\" : \"coordinated universal time\",\n",
        "                        \"w/\" : \"with\",\n",
        "                        \"w/o\" : \"without\",\n",
        "                        \"w8\" : \"wait\",\n",
        "                        \"wassup\" : \"what is up\",\n",
        "                        \"wb\" : \"welcome back\",\n",
        "                        \"wtf\" : \"what the fuck\",\n",
        "                        \"wtg\" : \"way to go\",\n",
        "                        \"wtpa\" : \"where the party at\",\n",
        "                        \"wuf\" : \"where are you from\",\n",
        "                        \"wuzup\" : \"what is up\",\n",
        "                        \"wywh\" : \"wish you were here\",\n",
        "                        \"yd\" : \"yard\",\n",
        "                        \"ygtr\" : \"you got that right\",\n",
        "                        \"ynk\" : \"you never know\",\n",
        "                        \"zzz\" : \"sleeping bored and tired\"\n",
        "                        }\n",
        "            \n",
        "        sample_typos_slang_pattern = re.compile(r'(?<!\\w)(' + '|'.join(re.escape(key) for key in sample_typos_slang.keys()) + r')(?!\\w)')\n",
        "        sample_acronyms_pattern = re.compile(r'(?<!\\w)(' + '|'.join(re.escape(key) for key in sample_acronyms.keys()) + r')(?!\\w)')\n",
        "        sample_abbr_pattern = re.compile(r'(?<!\\w)(' + '|'.join(re.escape(key) for key in sample_abbr.keys()) + r')(?!\\w)')\n",
        "        \n",
        "        text = sample_typos_slang_pattern.sub(lambda x: sample_typos_slang[x.group()], text)\n",
        "        text = sample_acronyms_pattern.sub(lambda x: sample_acronyms[x.group()], text)\n",
        "        text = sample_abbr_pattern.sub(lambda x: sample_abbr[x.group()], text)\n",
        "        \n",
        "        return text"
      ],
      "execution_count": null,
      "outputs": []
    },
    {
      "cell_type": "code",
      "metadata": {
        "id": "kJce8bIZRGK1"
      },
      "source": [
        "total['word count'] = total['text'].apply(lambda x: len(x.split()))\n",
        "total['character count'] = total['text'].apply(lambda x: len(x))\n",
        "def average_word_length(x):\n",
        "    x = x.split()\n",
        "    return np.mean([len(i) for i in x])\n",
        "\n",
        "total['average word length'] = total['text'].apply(average_word_length)\n",
        "total['unique word count'] = total['text'].apply(lambda x: len(set(x.split())))\n",
        "total['stopword count'] = total['text'].apply(lambda x: len([i for i in x.lower().split() if i in wordcloud.STOPWORDS]))\n",
        "total['stopword ratio'] = total['stopword count'] / total['word count']\n",
        "total['punctuation count'] = total['text'].apply(lambda x: len([i for i in str(x) if i in string.punctuation]))"
      ],
      "execution_count": 11,
      "outputs": []
    },
    {
      "cell_type": "code",
      "metadata": {
        "id": "PkgeH5J_vRde",
        "colab": {
          "base_uri": "https://localhost:8080/",
          "height": 359
        },
        "outputId": "e1fcd66e-5bc5-478e-b4a6-18ed57c33181"
      },
      "source": [
        "# CLEAN DATA \n",
        "\n",
        "#making the string lower case\n",
        "total = total.apply(lambda x: x.astype(str).str.lower())\n",
        "total['text'] = total['text'].apply(remove_punctuation)\n",
        "total['text'] = total['text'].apply(remove_stopwords)\n",
        "total['text'] = total['text'].apply(remove_non_alphabet)\n",
        "#total['text'] = total['text'].apply(correct_spellings)\n",
        "total['text'] = total['text'].apply(lambda x: remove_emoji(x))\n",
        "total[\"text\"] = total[\"text\"].apply(lambda x: expand_slang_abbr_acronyms(x))\n",
        "\n",
        "total.sample(10)"
      ],
      "execution_count": null,
      "outputs": [
        {
          "output_type": "execute_result",
          "data": {
            "text/html": [
              "<div>\n",
              "<style scoped>\n",
              "    .dataframe tbody tr th:only-of-type {\n",
              "        vertical-align: middle;\n",
              "    }\n",
              "\n",
              "    .dataframe tbody tr th {\n",
              "        vertical-align: top;\n",
              "    }\n",
              "\n",
              "    .dataframe thead th {\n",
              "        text-align: right;\n",
              "    }\n",
              "</style>\n",
              "<table border=\"1\" class=\"dataframe\">\n",
              "  <thead>\n",
              "    <tr style=\"text-align: right;\">\n",
              "      <th></th>\n",
              "      <th>text</th>\n",
              "      <th>target</th>\n",
              "      <th>word count</th>\n",
              "      <th>character count</th>\n",
              "      <th>average word length</th>\n",
              "      <th>unique word count</th>\n",
              "      <th>stopword count</th>\n",
              "      <th>stopword ratio</th>\n",
              "      <th>punctuation count</th>\n",
              "    </tr>\n",
              "  </thead>\n",
              "  <tbody>\n",
              "    <tr>\n",
              "      <th>580</th>\n",
              "      <td>news fedex longer transport bioterror germs wa...</td>\n",
              "      <td>1.0</td>\n",
              "      <td>21</td>\n",
              "      <td>147</td>\n",
              "      <td>6.0476190476190474</td>\n",
              "      <td>20</td>\n",
              "      <td>4</td>\n",
              "      <td>0.19047619047619047</td>\n",
              "      <td>14</td>\n",
              "    </tr>\n",
              "    <tr>\n",
              "      <th>1086</th>\n",
              "      <td>horns you saw beast will hate harlet make deso...</td>\n",
              "      <td>nan</td>\n",
              "      <td>29</td>\n",
              "      <td>142</td>\n",
              "      <td>3.9310344827586206</td>\n",
              "      <td>23</td>\n",
              "      <td>13</td>\n",
              "      <td>0.4482758620689655</td>\n",
              "      <td>0</td>\n",
              "    </tr>\n",
              "    <tr>\n",
              "      <th>7526</th>\n",
              "      <td>wreckage conclusively confirmed malaysia prime...</td>\n",
              "      <td>1.0</td>\n",
              "      <td>18</td>\n",
              "      <td>145</td>\n",
              "      <td>7.111111111111111</td>\n",
              "      <td>18</td>\n",
              "      <td>7</td>\n",
              "      <td>0.3888888888888889</td>\n",
              "      <td>12</td>\n",
              "    </tr>\n",
              "    <tr>\n",
              "      <th>1798</th>\n",
              "      <td>ill crash crash</td>\n",
              "      <td>1.0</td>\n",
              "      <td>6</td>\n",
              "      <td>51</td>\n",
              "      <td>7.666666666666667</td>\n",
              "      <td>5</td>\n",
              "      <td>2</td>\n",
              "      <td>0.3333333333333333</td>\n",
              "      <td>5</td>\n",
              "    </tr>\n",
              "    <tr>\n",
              "      <th>2407</th>\n",
              "      <td>still wonder will anything life anywhere wars ...</td>\n",
              "      <td>nan</td>\n",
              "      <td>22</td>\n",
              "      <td>149</td>\n",
              "      <td>5.818181818181818</td>\n",
              "      <td>21</td>\n",
              "      <td>6</td>\n",
              "      <td>0.2727272727272727</td>\n",
              "      <td>8</td>\n",
              "    </tr>\n",
              "    <tr>\n",
              "      <th>6252</th>\n",
              "      <td>liked youtube video boeing takeoff snowstorm h...</td>\n",
              "      <td>1.0</td>\n",
              "      <td>21</td>\n",
              "      <td>131</td>\n",
              "      <td>5.285714285714286</td>\n",
              "      <td>21</td>\n",
              "      <td>3</td>\n",
              "      <td>0.14285714285714285</td>\n",
              "      <td>9</td>\n",
              "    </tr>\n",
              "    <tr>\n",
              "      <th>5695</th>\n",
              "      <td>young children among rescued capsized boat lib...</td>\n",
              "      <td>1.0</td>\n",
              "      <td>14</td>\n",
              "      <td>115</td>\n",
              "      <td>7.285714285714286</td>\n",
              "      <td>13</td>\n",
              "      <td>3</td>\n",
              "      <td>0.21428571428571427</td>\n",
              "      <td>6</td>\n",
              "    </tr>\n",
              "    <tr>\n",
              "      <th>6399</th>\n",
              "      <td>isis claims responsibility saudi mosque suicid...</td>\n",
              "      <td>1.0</td>\n",
              "      <td>11</td>\n",
              "      <td>122</td>\n",
              "      <td>10.181818181818182</td>\n",
              "      <td>11</td>\n",
              "      <td>1</td>\n",
              "      <td>0.09090909090909091</td>\n",
              "      <td>11</td>\n",
              "    </tr>\n",
              "    <tr>\n",
              "      <th>2674</th>\n",
              "      <td>spinningbot another standuser will detonate ki...</td>\n",
              "      <td>0.0</td>\n",
              "      <td>19</td>\n",
              "      <td>110</td>\n",
              "      <td>4.842105263157895</td>\n",
              "      <td>16</td>\n",
              "      <td>11</td>\n",
              "      <td>0.5789473684210527</td>\n",
              "      <td>4</td>\n",
              "    </tr>\n",
              "    <tr>\n",
              "      <th>6832</th>\n",
              "      <td>trapped disappearance trapped</td>\n",
              "      <td>0.0</td>\n",
              "      <td>5</td>\n",
              "      <td>36</td>\n",
              "      <td>6.4</td>\n",
              "      <td>4</td>\n",
              "      <td>2</td>\n",
              "      <td>0.4</td>\n",
              "      <td>0</td>\n",
              "    </tr>\n",
              "  </tbody>\n",
              "</table>\n",
              "</div>"
            ],
            "text/plain": [
              "                                                   text  ... punctuation count\n",
              "580   news fedex longer transport bioterror germs wa...  ...                14\n",
              "1086  horns you saw beast will hate harlet make deso...  ...                 0\n",
              "7526  wreckage conclusively confirmed malaysia prime...  ...                12\n",
              "1798                                    ill crash crash  ...                 5\n",
              "2407  still wonder will anything life anywhere wars ...  ...                 8\n",
              "6252  liked youtube video boeing takeoff snowstorm h...  ...                 9\n",
              "5695  young children among rescued capsized boat lib...  ...                 6\n",
              "6399  isis claims responsibility saudi mosque suicid...  ...                11\n",
              "2674  spinningbot another standuser will detonate ki...  ...                 4\n",
              "6832                      trapped disappearance trapped  ...                 0\n",
              "\n",
              "[10 rows x 9 columns]"
            ]
          },
          "metadata": {
            "tags": []
          },
          "execution_count": 156
        }
      ]
    },
    {
      "cell_type": "markdown",
      "metadata": {
        "id": "St-EmC34ydjt"
      },
      "source": [
        "## Simple LSTM\n"
      ]
    },
    {
      "cell_type": "code",
      "metadata": {
        "id": "YL07VdbWf_yc"
      },
      "source": [
        "tweets = [tweet for tweet in total['text']]\n",
        "\n",
        "train = total[:len(train)]\n",
        "test = total[len(train):]"
      ],
      "execution_count": 12,
      "outputs": []
    },
    {
      "cell_type": "code",
      "metadata": {
        "colab": {
          "base_uri": "https://localhost:8080/"
        },
        "id": "H5EnQDK0-Ixw",
        "outputId": "d58b6cb5-ce26-4b33-ea43-ec2904418002"
      },
      "source": [
        "from keras.preprocessing.sequence import pad_sequences\n",
        "from keras import Input\n",
        "from keras.preprocessing.text import Tokenizer\n",
        "\n",
        "\n",
        "#define tokenizer options\n",
        "tokenizer = Tokenizer()     \n",
        "#tokenizer = Tokenizer(oov_token = '<OOV>')           #if you wanted to tokenized OOV words\n",
        "#tokenizer = Tokenizer(filters = to_exclude)          #if you wanted to include punctuation\n",
        "tokenizer.fit_on_texts(tweets)\n",
        "sequences = tokenizer.texts_to_sequences(tweets)\n",
        "\n",
        "word_index = tokenizer.word_index\n",
        "print('Found %s unique tokens.' % len(word_index))\n",
        "\n",
        "data = pad_sequences(sequences)\n",
        "labels = train['target']\n",
        "print('Shape of data tensor:', data.shape)\n",
        "print('Shape of label tensor:', labels.shape)\n",
        "\n",
        "nlp_train = data[:len(train)]\n",
        "labels = labels\n",
        "nlp_test = data[len(train):]\n",
        "\n",
        "MAX_SEQUENCE_LENGTH = data.shape[1]"
      ],
      "execution_count": 13,
      "outputs": [
        {
          "output_type": "stream",
          "text": [
            "Found 29349 unique tokens.\n",
            "Shape of data tensor: (10876, 35)\n",
            "Shape of label tensor: (7613,)\n"
          ],
          "name": "stdout"
        }
      ]
    },
    {
      "cell_type": "code",
      "metadata": {
        "colab": {
          "base_uri": "https://localhost:8080/"
        },
        "id": "6CXLTIQdDvbo",
        "outputId": "700b1ce6-6f6b-4c2e-9a49-57b8a98b8b00"
      },
      "source": [
        "#get GloVe vector embeddings\n",
        "embeddings_index = {}\n",
        "with open('glove.6B.200d.txt','r') as f:\n",
        "    for line in tqdm(f):\n",
        "        values = line.split()\n",
        "        word = values[0]\n",
        "        coefs = np.asarray(values[1:], dtype='float32')\n",
        "        embeddings_index[word] = coefs\n",
        "f.close()\n",
        "\n",
        "print('Found %s word vectors in the GloVe library' % len(embeddings_index))"
      ],
      "execution_count": 14,
      "outputs": [
        {
          "output_type": "stream",
          "text": [
            "400000it [00:23, 17234.01it/s]"
          ],
          "name": "stderr"
        },
        {
          "output_type": "stream",
          "text": [
            "Found 400000 word vectors in the GloVe library\n"
          ],
          "name": "stdout"
        },
        {
          "output_type": "stream",
          "text": [
            "\n"
          ],
          "name": "stderr"
        }
      ]
    },
    {
      "cell_type": "code",
      "metadata": {
        "id": "fWtCuVdTco1r"
      },
      "source": [
        "EMBEDDING_DIM = 200"
      ],
      "execution_count": 15,
      "outputs": []
    },
    {
      "cell_type": "code",
      "metadata": {
        "colab": {
          "base_uri": "https://localhost:8080/"
        },
        "id": "-xJWEQXddTHA",
        "outputId": "2ee3c772-8449-4447-b715-742099b5c6b6"
      },
      "source": [
        "embedding_matrix = np.zeros((len(word_index) + 1, EMBEDDING_DIM))\n",
        "\n",
        "#add glove word encodings to our library\n",
        "for word, i in tqdm(word_index.items()):\n",
        "    embedding_vector = embeddings_index.get(word)\n",
        "    if embedding_vector is not None:\n",
        "        \n",
        "        #words not found in embedding index will be all-zeros.\n",
        "        embedding_matrix[i] = embedding_vector\n",
        "        \n",
        "print(\"Our embedded matrix is of dimension\", embedding_matrix.shape)"
      ],
      "execution_count": 16,
      "outputs": [
        {
          "output_type": "stream",
          "text": [
            "100%|██████████| 29349/29349 [00:00<00:00, 501195.51it/s]"
          ],
          "name": "stderr"
        },
        {
          "output_type": "stream",
          "text": [
            "Our embedded matrix is of dimension (29350, 200)\n"
          ],
          "name": "stdout"
        },
        {
          "output_type": "stream",
          "text": [
            "\n"
          ],
          "name": "stderr"
        }
      ]
    },
    {
      "cell_type": "code",
      "metadata": {
        "id": "ol5LEcc8w8_2"
      },
      "source": [
        "from keras.layers import Embedding, LSTM, Dense, SpatialDropout1D, Bidirectional, Dropout, Concatenate, LeakyReLU, GRU\n",
        "from keras import Input, Model, regularizers\n",
        "from keras.optimizers import Adam\n",
        "from keras.models import Sequential\n",
        "from keras.callbacks import EarlyStopping\n",
        "\n",
        "embedding = Embedding(len(word_index) + 1, EMBEDDING_DIM, weights = [embedding_matrix],\n",
        "                     input_length = MAX_SEQUENCE_LENGTH, trainable = False)  \n"
      ],
      "execution_count": 17,
      "outputs": []
    },
    {
      "cell_type": "code",
      "metadata": {
        "id": "3x0Plun8do7Q"
      },
      "source": [
        "from sklearn.preprocessing import StandardScaler, MinMaxScaler, RobustScaler\n",
        "\n",
        "def scale(df, scaler):\n",
        "    return scaler.fit_transform(df.iloc[:, 2:])\n",
        "\n",
        "#and scal\n",
        "train.head()\n",
        "meta_train = scale(train, StandardScaler())\n",
        "meta_test = scale(test, StandardScaler())"
      ],
      "execution_count": 18,
      "outputs": []
    },
    {
      "cell_type": "code",
      "metadata": {
        "id": "1ZncVLRwXTUz"
      },
      "source": [
        "from keras import backend as K\n",
        "\n",
        "def recall_m(y_true, y_pred):\n",
        "    true_positives = K.sum(K.round(K.clip(y_true * y_pred, 0, 1)))\n",
        "    possible_positives = K.sum(K.round(K.clip(y_true, 0, 1)))\n",
        "    recall = true_positives / (possible_positives + K.epsilon())\n",
        "    return recall\n",
        "\n",
        "def precision_m(y_true, y_pred):\n",
        "    true_positives = K.sum(K.round(K.clip(y_true * y_pred, 0, 1)))\n",
        "    predicted_positives = K.sum(K.round(K.clip(y_pred, 0, 1)))\n",
        "    precision = true_positives / (predicted_positives + K.epsilon())\n",
        "    return precision\n",
        "\n",
        "def f1_m(y_true, y_pred):\n",
        "    precision = precision_m(y_true, y_pred)\n",
        "    recall = recall_m(y_true, y_pred)\n",
        "    return 2*((precision*recall)/(precision+recall+K.epsilon()))"
      ],
      "execution_count": 19,
      "outputs": []
    },
    {
      "cell_type": "code",
      "metadata": {
        "id": "HpXaZ671McoT"
      },
      "source": [
        "#function to create lstm model\n",
        "def create_lstm(spatial_dropout, dropout, recurrent_dropout, learning_rate, bidirectional = False):\n",
        "    #define activation\n",
        "    activation = LeakyReLU(alpha = 0.01)\n",
        "    \n",
        "    #define inputs\n",
        "    nlp_input = Input(shape = (MAX_SEQUENCE_LENGTH,), name = 'nlp_input')\n",
        "    #meta_input_train = Input(shape = (7, ), name = 'meta_train')\n",
        "    emb = embedding(nlp_input)\n",
        "    emb = SpatialDropout1D(dropout)(emb)\n",
        "\n",
        "    nlp_out = (LSTM(100, dropout = dropout, recurrent_dropout = recurrent_dropout,\n",
        "                                 kernel_initializer = 'orthogonal'))(emb)        \n",
        "     \n",
        "    preds = Dense(1, activation='sigmoid', kernel_regularizer = regularizers.l2(1e-4))(nlp_out)\n",
        "    \n",
        "    #compile model\n",
        "    model = Model(inputs=nlp_input, outputs = preds)\n",
        "    optimizer = Adam(learning_rate = learning_rate)\n",
        "    model.compile(loss = 'binary_crossentropy', optimizer = optimizer, metrics = ['accuracy', f1_m,precision_m, recall_m])\n",
        "    \n",
        "    return model"
      ],
      "execution_count": 24,
      "outputs": []
    },
    {
      "cell_type": "code",
      "metadata": {
        "id": "JYoXY4DK31Ry",
        "colab": {
          "base_uri": "https://localhost:8080/"
        },
        "outputId": "f6e4e5fa-b669-4eff-9bee-5ab2fbd217c0"
      },
      "source": [
        "lstm = create_lstm(spatial_dropout = .2, dropout = .2, recurrent_dropout = .2, learning_rate = 3e-4, bidirectional = False)\n",
        "lstm.summary()"
      ],
      "execution_count": 25,
      "outputs": [
        {
          "output_type": "stream",
          "text": [
            "Model: \"model_1\"\n",
            "_________________________________________________________________\n",
            "Layer (type)                 Output Shape              Param #   \n",
            "=================================================================\n",
            "nlp_input (InputLayer)       [(None, 35)]              0         \n",
            "_________________________________________________________________\n",
            "embedding (Embedding)        (None, 35, 200)           5870000   \n",
            "_________________________________________________________________\n",
            "spatial_dropout1d_1 (Spatial (None, 35, 200)           0         \n",
            "_________________________________________________________________\n",
            "lstm_1 (LSTM)                (None, 100)               120400    \n",
            "_________________________________________________________________\n",
            "dense_1 (Dense)              (None, 1)                 101       \n",
            "=================================================================\n",
            "Total params: 5,990,501\n",
            "Trainable params: 120,501\n",
            "Non-trainable params: 5,870,000\n",
            "_________________________________________________________________\n"
          ],
          "name": "stdout"
        }
      ]
    },
    {
      "cell_type": "code",
      "metadata": {
        "colab": {
          "base_uri": "https://localhost:8080/"
        },
        "id": "Tq9_wTNiMorB",
        "outputId": "06a3e172-237d-45ff-90ef-b1db841a6003"
      },
      "source": [
        "history1 = lstm.fit([nlp_train], labels, validation_split = .2, epochs = 5, batch_size = 21, verbose = 1)"
      ],
      "execution_count": 26,
      "outputs": [
        {
          "output_type": "stream",
          "text": [
            "Epoch 1/5\n",
            "290/290 [==============================] - 24s 73ms/step - loss: 0.5990 - accuracy: 0.6655 - f1_m: 0.5876 - precision_m: 0.6385 - recall_m: 0.6006 - val_loss: 0.4385 - val_accuracy: 0.8070 - val_f1_m: 0.5709 - val_precision_m: 0.7296 - val_recall_m: 0.5045\n",
            "Epoch 2/5\n",
            "290/290 [==============================] - 21s 72ms/step - loss: 0.4596 - accuracy: 0.7951 - f1_m: 0.7174 - precision_m: 0.8028 - recall_m: 0.6740 - val_loss: 0.4114 - val_accuracy: 0.8214 - val_f1_m: 0.6236 - val_precision_m: 0.7234 - val_recall_m: 0.5792\n",
            "Epoch 3/5\n",
            "290/290 [==============================] - 21s 71ms/step - loss: 0.4340 - accuracy: 0.8039 - f1_m: 0.7446 - precision_m: 0.8121 - recall_m: 0.7123 - val_loss: 0.4126 - val_accuracy: 0.8181 - val_f1_m: 0.5908 - val_precision_m: 0.7489 - val_recall_m: 0.5244\n",
            "Epoch 4/5\n",
            "290/290 [==============================] - 21s 71ms/step - loss: 0.4320 - accuracy: 0.8060 - f1_m: 0.7396 - precision_m: 0.8219 - recall_m: 0.6960 - val_loss: 0.4337 - val_accuracy: 0.8011 - val_f1_m: 0.5592 - val_precision_m: 0.7546 - val_recall_m: 0.4841\n",
            "Epoch 5/5\n",
            "290/290 [==============================] - 20s 70ms/step - loss: 0.4247 - accuracy: 0.8137 - f1_m: 0.7352 - precision_m: 0.8462 - recall_m: 0.6706 - val_loss: 0.4082 - val_accuracy: 0.8175 - val_f1_m: 0.5994 - val_precision_m: 0.7442 - val_recall_m: 0.5365\n"
          ],
          "name": "stdout"
        }
      ]
    }
  ]
}