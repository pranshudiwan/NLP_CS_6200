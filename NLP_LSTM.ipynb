{
  "nbformat": 4,
  "nbformat_minor": 0,
  "metadata": {
    "colab": {
      "name": "NLP-LSTM.ipynb",
      "provenance": [],
      "authorship_tag": "ABX9TyM7J2uIa1ofuBPk8OzW2rMG",
      "include_colab_link": true
    },
    "kernelspec": {
      "name": "python3",
      "display_name": "Python 3"
    },
    "language_info": {
      "name": "python"
    }
  },
  "cells": [
    {
      "cell_type": "markdown",
      "metadata": {
        "id": "view-in-github",
        "colab_type": "text"
      },
      "source": [
        "<a href=\"https://colab.research.google.com/github/pranshudiwan/NLP_CS_6200/blob/main/NLP_LSTM.ipynb\" target=\"_parent\"><img src=\"https://colab.research.google.com/assets/colab-badge.svg\" alt=\"Open In Colab\"/></a>"
      ]
    },
    {
      "cell_type": "code",
      "metadata": {
        "id": "T_CTLN--7s2J"
      },
      "source": [
        "# Sindhu Baseline LSTM"
      ],
      "execution_count": null,
      "outputs": []
    },
    {
      "cell_type": "code",
      "metadata": {
        "id": "L3jYgblAhY41"
      },
      "source": [
        "# Import Libraries\n",
        "import pandas as pd\n",
        "import matplotlib.pyplot as plt\n",
        "import seaborn as sns"
      ],
      "execution_count": 6,
      "outputs": []
    },
    {
      "cell_type": "code",
      "metadata": {
        "id": "wALKsHMihe0w"
      },
      "source": [
        "\n",
        "# Import train data\n",
        "url_train = 'https://raw.githubusercontent.com/pranshudiwan/NLP_CS_6200/main/train.csv'\n",
        "train = pd.read_csv(url_train)\n",
        "\n",
        "# Import est data\n",
        "url_test = 'https://raw.githubusercontent.com/pranshudiwan/NLP_CS_6200/main/test.csv'\n",
        "test = pd.read_csv(url_test)"
      ],
      "execution_count": 2,
      "outputs": []
    },
    {
      "cell_type": "markdown",
      "metadata": {
        "id": "IU79BZhSl9Jc"
      },
      "source": [
        "## Visualization\n",
        "- Class Distribution (number of tweets in each class)\n",
        "- Number of characters in tweets\n",
        "- Number of words in tweets\n",
        "- Average length of word in a tweet"
      ]
    },
    {
      "cell_type": "code",
      "metadata": {
        "colab": {
          "base_uri": "https://localhost:8080/",
          "height": 387
        },
        "id": "FpkvjySDjYba",
        "outputId": "b7844ad9-7d89-41eb-f17b-53491d402b3f"
      },
      "source": [
        "# Class distribution\n",
        "class_counts=train.target.value_counts()\n",
        "sns.barplot(class_counts.index,class_counts)\n",
        "plt.gca().set_ylabel('train data')\n",
        "\n",
        "print(class_counts , \"\\n\")"
      ],
      "execution_count": 17,
      "outputs": [
        {
          "output_type": "stream",
          "text": [
            "0    4342\n",
            "1    3271\n",
            "Name: target, dtype: int64 \n",
            "\n"
          ],
          "name": "stdout"
        },
        {
          "output_type": "stream",
          "text": [
            "/usr/local/lib/python3.7/dist-packages/seaborn/_decorators.py:43: FutureWarning: Pass the following variables as keyword args: x, y. From version 0.12, the only valid positional argument will be `data`, and passing other arguments without an explicit keyword will result in an error or misinterpretation.\n",
            "  FutureWarning\n"
          ],
          "name": "stderr"
        },
        {
          "output_type": "display_data",
          "data": {
            "image/png": "[encoded data removed]",
            "text/plain": [
              "<Figure size 432x288 with 1 Axes>"
            ]
          },
          "metadata": {
            "tags": [],
            "needs_background": "light"
          }
        }
      ]
    },
    {
      "cell_type": "code",
      "metadata": {
        "colab": {
          "base_uri": "https://localhost:8080/",
          "height": 417
        },
        "id": "Megb-EytloDF",
        "outputId": "9c9d2e67-1c9c-48e9-9761-56788f6aec1f"
      },
      "source": [
        "# Number of characters in tweets\n",
        "\n",
        "# For Disaster tweets\n",
        "disaster_tweet_len=train[train['target']==1]['text'].str.len()\n",
        "#print(disaster_tweet_len)\n",
        "non_disaster_tweet_len=train[train['target']==0]['text'].str.len()\n",
        "#print(non_disaster_tweet_len)\n",
        "\n",
        "\n",
        "# plotting\n",
        "plot,(subplot1,subplot2)=plt.subplots(1,2,figsize=(12,6))\n",
        "subplot1.hist(disaster_tweet_len,color='red')\n",
        "subplot1.set_title('Disaster tweets')\n",
        "subplot2.hist(non_disaster_tweet_len,color='green')\n",
        "subplot2.set_title('Non disaster tweets')\n",
        "plot.suptitle('Number of characters in tweets')\n",
        "plt.show()"
      ],
      "execution_count": 24,
      "outputs": [
        {
          "output_type": "display_data",
          "data": {
            "image/png": "[encoded data removed]",
            "text/plain": [
              "<Figure size 864x432 with 2 Axes>"
            ]
          },
          "metadata": {
            "tags": [],
            "needs_background": "light"
          }
        }
      ]
    },
    {
      "cell_type": "code",
      "metadata": {
        "id": "4q9KSfV1lyAG"
      },
      "source": [
        "# Number of words in tweets\n",
        "\n"
      ],
      "execution_count": null,
      "outputs": []
    },
    {
      "cell_type": "code",
      "metadata": {
        "id": "3aColNXSlz8b"
      },
      "source": [
        "# Average length of word in a tweet"
      ],
      "execution_count": null,
      "outputs": []
    }
  ]
}