{
  "nbformat": 4,
  "nbformat_minor": 0,
  "metadata": {
    "colab": {
      "name": "NLP-LSTM.ipynb",
      "provenance": [],
      "authorship_tag": "ABX9TyOvBHWTlNdfP4Wd9UWj54Ih",
      "include_colab_link": true
    },
    "kernelspec": {
      "name": "python3",
      "display_name": "Python 3"
    },
    "language_info": {
      "name": "python"
    }
  },
  "cells": [
    {
      "cell_type": "markdown",
      "metadata": {
        "id": "view-in-github",
        "colab_type": "text"
      },
      "source": [
        "<a href=\"https://colab.research.google.com/github/pranshudiwan/NLP_CS_6200/blob/main/NLP_LSTM.ipynb\" target=\"_parent\"><img src=\"https://colab.research.google.com/assets/colab-badge.svg\" alt=\"Open In Colab\"/></a>"
      ]
    },
    {
      "cell_type": "code",
      "metadata": {
        "id": "T_CTLN--7s2J"
      },
      "source": [
        "# Sindhu Baseline LSTM"
      ],
      "execution_count": null,
      "outputs": []
    },
    {
      "cell_type": "markdown",
      "metadata": {
        "id": "Hk3zH57SFh9L"
      },
      "source": [
        "##Importing Libraries"
      ]
    },
    {
      "cell_type": "code",
      "metadata": {
        "id": "L3jYgblAhY41",
        "colab": {
          "base_uri": "https://localhost:8080/"
        },
        "outputId": "0150a37a-b407-4885-eabd-1068c02b829b"
      },
      "source": [
        "#@title\n",
        "# Import Libraries\n",
        "import pandas as pd\n",
        "import matplotlib.pyplot as plt\n",
        "import seaborn as sns\n",
        "import numpy as np\n",
        "import wordcloud\n",
        "!pip install pyspellchecker\n",
        "from spellchecker import SpellChecker\n",
        "import math, os, re, time, random, string\n",
        "\n",
        "from sklearn.preprocessing import StandardScaler, MinMaxScaler, RobustScaler\n",
        "from tqdm import tqdm\n",
        "from collections import defaultdict\n",
        "import tensorflow as tf\n",
        "\n",
        "# Keras imports\n",
        "from keras.layers import Embedding, LSTM, Dense, SpatialDropout1D, Bidirectional, Dropout, Concatenate, LeakyReLU, GRU\n",
        "from keras import Input, Model, regularizers\n",
        "from keras.optimizers import Adam\n",
        "from keras.models import Sequential\n",
        "from keras.callbacks import EarlyStopping\n",
        "from keras.preprocessing.sequence import pad_sequences\n",
        "from keras import Input\n",
        "from keras.preprocessing.text import Tokenizer\n",
        "\n",
        "from nltk.stem import PorterStemmer\n",
        "from nltk.tokenize import word_tokenize\n",
        "nltk.download('punkt')"
      ],
      "execution_count": 339,
      "outputs": [
        {
          "output_type": "stream",
          "text": [
            "Requirement already satisfied: pyspellchecker in /usr/local/lib/python3.7/dist-packages (0.6.2)\n",
            "[nltk_data] Downloading package punkt to /root/nltk_data...\n",
            "[nltk_data]   Package punkt is already up-to-date!\n"
          ],
          "name": "stdout"
        },
        {
          "output_type": "execute_result",
          "data": {
            "text/plain": [
              "True"
            ]
          },
          "metadata": {
            "tags": []
          },
          "execution_count": 339
        }
      ]
    },
    {
      "cell_type": "code",
      "metadata": {
        "id": "PRdjpqlfO-H6"
      },
      "source": [
        "#@title\n",
        "def seed_everything(seed):\n",
        "    os.environ['PYTHONHASHSEED']=str(seed)\n",
        "    tf.random.set_seed(seed)\n",
        "    np.random.seed(seed)\n",
        "    random.seed(seed)\n",
        "    \n",
        "seed_everything(34)"
      ],
      "execution_count": 340,
      "outputs": []
    },
    {
      "cell_type": "markdown",
      "metadata": {
        "id": "tNapdC3yGbFi"
      },
      "source": [
        "## Downloading Glove words vectors files"
      ]
    },
    {
      "cell_type": "code",
      "metadata": {
        "colab": {
          "base_uri": "https://localhost:8080/"
        },
        "id": "MSLQT8CxF5sZ",
        "cellView": "form",
        "outputId": "f41cfdc0-f504-4a8e-d581-ad8af9ccd93a"
      },
      "source": [
        "#@title\n",
        "!wget http://nlp.stanford.edu/data/glove.6B.zip\n",
        "!unzip glove*.zip"
      ],
      "execution_count": 241,
      "outputs": [
        {
          "output_type": "stream",
          "text": [
            "--2021-04-29 21:23:14--  http://nlp.stanford.edu/data/glove.6B.zip\n",
            "Resolving nlp.stanford.edu (nlp.stanford.edu)... 171.64.67.140\n",
            "Connecting to nlp.stanford.edu (nlp.stanford.edu)|171.64.67.140|:80... connected.\n",
            "HTTP request sent, awaiting response... 302 Found\n",
            "Location: https://nlp.stanford.edu/data/glove.6B.zip [following]\n",
            "--2021-04-29 21:23:14--  https://nlp.stanford.edu/data/glove.6B.zip\n",
            "Connecting to nlp.stanford.edu (nlp.stanford.edu)|171.64.67.140|:443... connected.\n",
            "HTTP request sent, awaiting response... 301 Moved Permanently\n",
            "Location: http://downloads.cs.stanford.edu/nlp/data/glove.6B.zip [following]\n",
            "--2021-04-29 21:23:14--  http://downloads.cs.stanford.edu/nlp/data/glove.6B.zip\n",
            "Resolving downloads.cs.stanford.edu (downloads.cs.stanford.edu)... 171.64.64.22\n",
            "Connecting to downloads.cs.stanford.edu (downloads.cs.stanford.edu)|171.64.64.22|:80... connected.\n",
            "HTTP request sent, awaiting response... 200 OK\n",
            "Length: 862182613 (822M) [application/zip]\n",
            "Saving to: ‘glove.6B.zip.4’\n",
            "\n",
            "glove.6B.zip.4      100%[===================>] 822.24M  5.12MB/s    in 2m 40s  \n",
            "\n",
            "2021-04-29 21:25:55 (5.13 MB/s) - ‘glove.6B.zip.4’ saved [862182613/862182613]\n",
            "\n",
            "Archive:  glove.6B.zip\n",
            "replace glove.6B.50d.txt? [y]es, [n]o, [A]ll, [N]one, [r]ename: n\n",
            "replace glove.6B.100d.txt? [y]es, [n]o, [A]ll, [N]one, [r]ename: n\n",
            "replace glove.6B.200d.txt? [y]es, [n]o, [A]ll, [N]one, [r]ename: n\n",
            "replace glove.6B.300d.txt? [y]es, [n]o, [A]ll, [N]one, [r]ename: n\n"
          ],
          "name": "stdout"
        }
      ]
    },
    {
      "cell_type": "markdown",
      "metadata": {
        "id": "wOh7BEWjG0qS"
      },
      "source": [
        "##Importing train and test data"
      ]
    },
    {
      "cell_type": "code",
      "metadata": {
        "id": "wALKsHMihe0w"
      },
      "source": [
        "#@title\n",
        "# Import train data\n",
        "url_train = 'https://raw.githubusercontent.com/pranshudiwan/NLP_CS_6200/main/train.csv'\n",
        "train = pd.read_csv(url_train)\n",
        "\n",
        "# Import est data\n",
        "url_test = 'https://raw.githubusercontent.com/pranshudiwan/NLP_CS_6200/main/test.csv'\n",
        "test   = pd.read_csv(url_test)"
      ],
      "execution_count": 341,
      "outputs": []
    },
    {
      "cell_type": "markdown",
      "metadata": {
        "id": "JKsi8TWYKuly"
      },
      "source": [
        "##Single DataFrame"
      ]
    },
    {
      "cell_type": "code",
      "metadata": {
        "id": "zIgjSjvoBZ0q"
      },
      "source": [
        "#@title\n",
        "train = train.drop(columns = {'id', 'location', 'keyword'})\n",
        "test = test.drop(columns = {'id', 'location', 'keyword'})\n",
        "combined = train.append(test)"
      ],
      "execution_count": 342,
      "outputs": []
    },
    {
      "cell_type": "markdown",
      "metadata": {
        "id": "IU79BZhSl9Jc"
      },
      "source": [
        "## Visualization\n",
        "- Class Distribution (number of tweets in each class)\n",
        "- Number of characters in tweets\n",
        "- Number of words in tweets\n",
        "- Average length of word in a tweet"
      ]
    },
    {
      "cell_type": "code",
      "metadata": {
        "colab": {
          "base_uri": "https://localhost:8080/",
          "height": 333
        },
        "id": "FpkvjySDjYba",
        "outputId": "f643ba64-a4b1-40f0-fc79-d1ffc71cb8dd"
      },
      "source": [
        "#@title\n",
        "# Class distribution\n",
        "class_counts=combined.target.value_counts()\n",
        "sns.barplot(x=class_counts.index,y=class_counts)\n",
        "plt.gca().set_ylabel('Data')\n",
        "print(class_counts , \"\\n\")"
      ],
      "execution_count": 307,
      "outputs": [
        {
          "output_type": "stream",
          "text": [
            "0.0    4342\n",
            "1.0    3271\n",
            "Name: target, dtype: int64 \n",
            "\n"
          ],
          "name": "stdout"
        },
        {
          "output_type": "display_data",
          "data": {
            "image/png": "[encoded data removed]",
            "text/plain": [
              "<Figure size 432x288 with 1 Axes>"
            ]
          },
          "metadata": {
            "tags": [],
            "needs_background": "light"
          }
        }
      ]
    },
    {
      "cell_type": "code",
      "metadata": {
        "colab": {
          "base_uri": "https://localhost:8080/",
          "height": 519
        },
        "id": "5p0fgmdIU1Lj",
        "outputId": "035654d4-f8ae-4ac3-ab34-6e086018dd10"
      },
      "source": [
        "#@title\n",
        "# Number of characters in tweets\n",
        "train = combined[:len(train)]\n",
        "train['character_count'] = train['text'].apply(lambda word: len(word))\n",
        "\n",
        "# For Disaster tweets\n",
        "disaster_tweet_len=train[train['target']==1]['character_count']\n",
        "#print(disaster_tweet_len)\n",
        "non_disaster_tweet_len=train[train['target']==0]['character_count']\n",
        "#print(non_disaster_tweet_len)\n",
        "\n",
        "# plotting\n",
        "plot,(subplot1,subplot2)=plt.subplots(1,2,figsize=(12,6))\n",
        "subplot1.hist(disaster_tweet_len,color='red')\n",
        "subplot1.set_title('Disaster tweets')\n",
        "subplot2.hist(non_disaster_tweet_len,color='green')\n",
        "subplot2.set_title('Non disaster tweets')\n",
        "plot.suptitle('Number of characters in tweets')\n",
        "plt.show()"
      ],
      "execution_count": 308,
      "outputs": [
        {
          "output_type": "stream",
          "text": [
            "/usr/local/lib/python3.7/dist-packages/ipykernel_launcher.py:4: SettingWithCopyWarning: \n",
            "A value is trying to be set on a copy of a slice from a DataFrame.\n",
            "Try using .loc[row_indexer,col_indexer] = value instead\n",
            "\n",
            "See the caveats in the documentation: https://pandas.pydata.org/pandas-docs/stable/user_guide/indexing.html#returning-a-view-versus-a-copy\n",
            "  after removing the cwd from sys.path.\n"
          ],
          "name": "stderr"
        },
        {
          "output_type": "display_data",
          "data": {
            "image/png": "[encoded data removed]",
            "text/plain": [
              "<Figure size 864x432 with 2 Axes>"
            ]
          },
          "metadata": {
            "tags": [],
            "needs_background": "light"
          }
        }
      ]
    },
    {
      "cell_type": "code",
      "metadata": {
        "colab": {
          "base_uri": "https://localhost:8080/",
          "height": 417
        },
        "id": "4q9KSfV1lyAG",
        "outputId": "d3c81771-e176-49ff-94ee-fd48615ed1ed"
      },
      "source": [
        "#@title\n",
        "# Number of words in tweets\n",
        "# For Disaster tweets\n",
        "disaster_no_of_words=train[train['target']==1]['text'].str.split().map(lambda tweet : len(tweet))\n",
        "#print(disaster_no_of_words)\n",
        "non_disaster_no_of_words=train[train['target']==0]['text'].str.split().map(lambda tweet : len(tweet))\n",
        "#print(non_disaster_no_of_words)\n",
        "\n",
        "\n",
        "# Plotting number of words\n",
        "plot,(subplot1,subplot2)=plt.subplots(1,2,figsize=(12,6))\n",
        "subplot1.hist(disaster_no_of_words,color='red')\n",
        "subplot1.set_title('Disaster tweets')\n",
        "subplot2.hist(non_disaster_no_of_words,color='green')\n",
        "subplot2.set_title('Non disaster tweets')\n",
        "plot.suptitle('Number of words in tweets')\n",
        "plt.show()"
      ],
      "execution_count": 309,
      "outputs": [
        {
          "output_type": "display_data",
          "data": {
            "image/png": "[encoded data removed]",
            "text/plain": [
              "<Figure size 864x432 with 2 Axes>"
            ]
          },
          "metadata": {
            "tags": [],
            "needs_background": "light"
          }
        }
      ]
    },
    {
      "cell_type": "code",
      "metadata": {
        "colab": {
          "base_uri": "https://localhost:8080/",
          "height": 431
        },
        "id": "3aColNXSlz8b",
        "cellView": "form",
        "outputId": "bfc1d422-1292-4239-e68d-e8d6f16d5015"
      },
      "source": [
        "#@title\n",
        "# For Disaster tweets\n",
        "disaster_word_len=train[train['target']==1]['text'].str.split().apply(lambda tweet : [len(word) for word in tweet])\n",
        "# print(disaster_word_len)\n",
        "#print('Average word length of disaster tweets', disaster_word_len.map(lambda word_len: np.mean(word_len)))\n",
        "non_disaster_word_len=train[train['target']==0]['text'].str.split().apply(lambda tweet : [len(word) for word in tweet])\n",
        "# print(non_disaster_word_len)\n",
        "#print('Average word length of non disaster tweets', non_disaster_word_len.map(lambda word_len: np.mean(word_len)))\n",
        "\n",
        "# Plotting number of words\n",
        "plot,(subplot1,subplot2)=plt.subplots(1,2,figsize=(12,6))\n",
        "sns.histplot(disaster_word_len.map(lambda word_len: np.mean(word_len)),ax=subplot1,color='red')\n",
        "subplot1.set_title('Disaster tweets')\n",
        "\n",
        "sns.histplot(non_disaster_word_len.map(lambda word_len: np.mean(word_len)),ax=subplot2,color='green')\n",
        "subplot2.set_title('Non disaster tweets')\n",
        "plot.suptitle('Average word length in a tweet')\n",
        "plt.show()"
      ],
      "execution_count": 310,
      "outputs": [
        {
          "output_type": "display_data",
          "data": {
            "image/png": "[encoded data removed]",
            "text/plain": [
              "<Figure size 864x432 with 2 Axes>"
            ]
          },
          "metadata": {
            "tags": [],
            "needs_background": "light"
          }
        }
      ]
    },
    {
      "cell_type": "markdown",
      "metadata": {
        "id": "oSkKRYbbsP9V"
      },
      "source": [
        "## Data Cleaning for LSTM\n",
        "- Remove punctuation\n",
        "- Remove stopwords\n",
        "- Remove non alphabets\n",
        "- Remove emojis\n",
        "- Spellcheck each word\n",
        "- Expanding all slangs, acronyms and abbreviations\n",
        "- stemming of texts"
      ]
    },
    {
      "cell_type": "code",
      "metadata": {
        "id": "6IaEvoDasL9F"
      },
      "source": [
        "#@title\n",
        "def remove_punctuation(tweets):\n",
        "    return tweets.translate(str.maketrans('', '', string.punctuation))"
      ],
      "execution_count": 286,
      "outputs": []
    },
    {
      "cell_type": "code",
      "metadata": {
        "id": "PirW3TIjt12c"
      },
      "source": [
        "#@title\n",
        "def remove_stopwords(tweets):\n",
        "    return ' '.join([word for word in tweets.split() if word not in wordcloud.STOPWORDS]) # using wordcloud stopwords instead of nltk stopwords"
      ],
      "execution_count": 287,
      "outputs": []
    },
    {
      "cell_type": "code",
      "metadata": {
        "id": "N-ZrMK7euR2P"
      },
      "source": [
        "#@title\n",
        "def remove_non_alphabet(tweets):\n",
        "    return ' '.join([word for word in tweets.split() if word.isalpha()])"
      ],
      "execution_count": 288,
      "outputs": []
    },
    {
      "cell_type": "code",
      "metadata": {
        "id": "5fdHKf5zub-l"
      },
      "source": [
        "#@title\n",
        "spell = SpellChecker()\n",
        "def correct_spellings(text):\n",
        "    corrected_text = []\n",
        "    misspelled_words = spell.unknown(text.split())\n",
        "    for word in text.split():\n",
        "        if word in misspelled_words:\n",
        "            corrected_text.append(spell.correction(word))\n",
        "        else:\n",
        "            corrected_text.append(word)\n",
        "    return \" \".join(corrected_text)"
      ],
      "execution_count": 289,
      "outputs": []
    },
    {
      "cell_type": "code",
      "metadata": {
        "id": "lB5nXw2VxGLo"
      },
      "source": [
        "#@title\n",
        "def remove_emoji(tweets):\n",
        "    emoji_pattern = re.compile(\"[\"\n",
        "                           u\"\\U0001F600-\\U0001F64F\"  # emoticons\n",
        "                           u\"\\U0001F300-\\U0001F5FF\"  # symbols & pictographs\n",
        "                           u\"\\U0001F680-\\U0001F6FF\"  # transport & map symbols\n",
        "                           u\"\\U0001F1E0-\\U0001F1FF\"  # flags (iOS)\n",
        "                           u\"\\U00002702-\\U000027B0\"\n",
        "                           u\"\\U000024C2-\\U0001F251\"\n",
        "                           \"]+\", flags=re.UNICODE)\n",
        "    return emoji_pattern.sub(r'', tweets)"
      ],
      "execution_count": 290,
      "outputs": []
    },
    {
      "cell_type": "code",
      "metadata": {
        "id": "m2OLScdNxy0K"
      },
      "source": [
        "#@title\n",
        "def expand_slang_abbr_acronyms(tweets):\n",
        "        \"\"\"\n",
        "            Other manual text cleaning techniques\n",
        "        \"\"\"\n",
        "        # Typos, slang and other\n",
        "        sample_typos_slang = {\n",
        "                                \"w/e\": \"whatever\",\n",
        "                                \"usagov\": \"usa government\",\n",
        "                                \"recentlu\": \"recently\",\n",
        "                                \"ph0tos\": \"photos\",\n",
        "                                \"amirite\": \"am i right\",\n",
        "                                \"exp0sed\": \"exposed\",\n",
        "                                \"<3\": \"love\",\n",
        "                                \"luv\": \"love\",\n",
        "                                \"amageddon\": \"armageddon\",\n",
        "                                \"trfc\": \"traffic\",\n",
        "                                \"16yr\": \"16 year\"\n",
        "                                }\n",
        "\n",
        "        # Acronyms\n",
        "        sample_acronyms =  { \n",
        "                            \"mh370\": \"malaysia airlines flight 370\",\n",
        "                            \"okwx\": \"oklahoma city weather\",\n",
        "                            \"arwx\": \"arkansas weather\",    \n",
        "                            \"gawx\": \"georgia weather\",  \n",
        "                            \"scwx\": \"south carolina weather\",  \n",
        "                            \"cawx\": \"california weather\",\n",
        "                            \"tnwx\": \"tennessee weather\",\n",
        "                            \"azwx\": \"arizona weather\",  \n",
        "                            \"alwx\": \"alabama weather\",\n",
        "                            \"usnwsgov\": \"united states national weather service\",\n",
        "                            \"2mw\": \"tomorrow\"\n",
        "                            }\n",
        "\n",
        "        \n",
        "        # Some common abbreviations \n",
        "        sample_abbr = {\n",
        "                        \"$\" : \" dollar \",\n",
        "                        \"€\" : \" euro \",\n",
        "                        \"4ao\" : \"for adults only\",\n",
        "                        \"a.m\" : \"before midday\",\n",
        "                        \"a3\" : \"anytime anywhere anyplace\",\n",
        "                        \"aamof\" : \"as a matter of fact\",\n",
        "                        \"acct\" : \"account\",\n",
        "                        \"adih\" : \"another day in hell\",\n",
        "                        \"afaic\" : \"as far as i am concerned\",\n",
        "                        \"afaict\" : \"as far as i can tell\",\n",
        "                        \"afaik\" : \"as far as i know\",\n",
        "                        \"afair\" : \"as far as i remember\",\n",
        "                        \"afk\" : \"away from keyboard\",\n",
        "                        \"app\" : \"application\",\n",
        "                        \"approx\" : \"approximately\",\n",
        "                        \"apps\" : \"applications\",\n",
        "                        \"asap\" : \"as soon as possible\",\n",
        "                        \"asl\" : \"age, sex, location\",\n",
        "                        \"atk\" : \"at the keyboard\",\n",
        "                        \"ave.\" : \"avenue\",\n",
        "                        \"aymm\" : \"are you my mother\",\n",
        "                        \"ayor\" : \"at your own risk\", \n",
        "                        \"b&b\" : \"bed and breakfast\",\n",
        "                        \"b+b\" : \"bed and breakfast\",\n",
        "                        \"b.c\" : \"before christ\",\n",
        "                        \"b2b\" : \"business to business\",\n",
        "                        \"b2c\" : \"business to customer\",\n",
        "                        \"b4\" : \"before\",\n",
        "                        \"b4n\" : \"bye for now\",\n",
        "                        \"b@u\" : \"back at you\",\n",
        "                        \"bae\" : \"before anyone else\",\n",
        "                        \"bak\" : \"back at keyboard\",\n",
        "                        \"bbbg\" : \"bye bye be good\",\n",
        "                        \"bbc\" : \"british broadcasting corporation\",\n",
        "                        \"bbias\" : \"be back in a second\",\n",
        "                        \"bbl\" : \"be back later\",\n",
        "                        \"bbs\" : \"be back soon\",\n",
        "                        \"be4\" : \"before\",\n",
        "                        \"bfn\" : \"bye for now\",\n",
        "                        \"blvd\" : \"boulevard\",\n",
        "                        \"bout\" : \"about\",\n",
        "                        \"brb\" : \"be right back\",\n",
        "                        \"bros\" : \"brothers\",\n",
        "                        \"brt\" : \"be right there\",\n",
        "                        \"bsaaw\" : \"big smile and a wink\",\n",
        "                        \"btw\" : \"by the way\",\n",
        "                        \"bwl\" : \"bursting with laughter\",\n",
        "                        \"c/o\" : \"care of\",\n",
        "                        \"cet\" : \"central european time\",\n",
        "                        \"cf\" : \"compare\",\n",
        "                        \"cia\" : \"central intelligence agency\",\n",
        "                        \"csl\" : \"can not stop laughing\",\n",
        "                        \"cu\" : \"see you\",\n",
        "                        \"cul8r\" : \"see you later\",\n",
        "                        \"cv\" : \"curriculum vitae\",\n",
        "                        \"cwot\" : \"complete waste of time\",\n",
        "                        \"cya\" : \"see you\",\n",
        "                        \"cyt\" : \"see you tomorrow\",\n",
        "                        \"dae\" : \"does anyone else\",\n",
        "                        \"dbmib\" : \"do not bother me i am busy\",\n",
        "                        \"diy\" : \"do it yourself\",\n",
        "                        \"dm\" : \"direct message\",\n",
        "                        \"dwh\" : \"during work hours\",\n",
        "                        \"e123\" : \"easy as one two three\",\n",
        "                        \"eet\" : \"eastern european time\",\n",
        "                        \"eg\" : \"example\",\n",
        "                        \"embm\" : \"early morning business meeting\",\n",
        "                        \"encl\" : \"enclosed\",\n",
        "                        \"encl.\" : \"enclosed\",\n",
        "                        \"etc\" : \"and so on\",\n",
        "                        \"faq\" : \"frequently asked questions\",\n",
        "                        \"fawc\" : \"for anyone who cares\",\n",
        "                        \"fb\" : \"facebook\",\n",
        "                        \"fc\" : \"fingers crossed\",\n",
        "                        \"fig\" : \"figure\",\n",
        "                        \"fimh\" : \"forever in my heart\", \n",
        "                        \"ft.\" : \"feet\",\n",
        "                        \"ft\" : \"featuring\",\n",
        "                        \"ftl\" : \"for the loss\",\n",
        "                        \"ftw\" : \"for the win\",\n",
        "                        \"fwiw\" : \"for what it is worth\",\n",
        "                        \"fyi\" : \"for your information\",\n",
        "                        \"g9\" : \"genius\",\n",
        "                        \"gahoy\" : \"get a hold of yourself\",\n",
        "                        \"gal\" : \"get a life\",\n",
        "                        \"gcse\" : \"general certificate of secondary education\",\n",
        "                        \"gfn\" : \"gone for now\",\n",
        "                        \"gg\" : \"good game\",\n",
        "                        \"gl\" : \"good luck\",\n",
        "                        \"glhf\" : \"good luck have fun\",\n",
        "                        \"gmt\" : \"greenwich mean time\",\n",
        "                        \"gmta\" : \"great minds think alike\",\n",
        "                        \"gn\" : \"good night\",\n",
        "                        \"g.o.a.t\" : \"greatest of all time\",\n",
        "                        \"goat\" : \"greatest of all time\",\n",
        "                        \"goi\" : \"get over it\",\n",
        "                        \"gps\" : \"global positioning system\",\n",
        "                        \"gr8\" : \"great\",\n",
        "                        \"gratz\" : \"congratulations\",\n",
        "                        \"gyal\" : \"girl\",\n",
        "                        \"h&c\" : \"hot and cold\",\n",
        "                        \"hp\" : \"horsepower\",\n",
        "                        \"hr\" : \"hour\",\n",
        "                        \"hrh\" : \"his royal highness\",\n",
        "                        \"ht\" : \"height\",\n",
        "                        \"ibrb\" : \"i will be right back\",\n",
        "                        \"ic\" : \"i see\",\n",
        "                        \"icq\" : \"i seek you\",\n",
        "                        \"icymi\" : \"in case you missed it\",\n",
        "                        \"idc\" : \"i do not care\",\n",
        "                        \"idgadf\" : \"i do not give a damn fuck\",\n",
        "                        \"idgaf\" : \"i do not give a fuck\",\n",
        "                        \"idk\" : \"i do not know\",\n",
        "                        \"ie\" : \"that is\",\n",
        "                        \"i.e\" : \"that is\",\n",
        "                        \"ifyp\" : \"i feel your pain\",\n",
        "                        \"IG\" : \"instagram\",\n",
        "                        \"iirc\" : \"if i remember correctly\",\n",
        "                        \"ilu\" : \"i love you\",\n",
        "                        \"ily\" : \"i love you\",\n",
        "                        \"imho\" : \"in my humble opinion\",\n",
        "                        \"imo\" : \"in my opinion\",\n",
        "                        \"imu\" : \"i miss you\",\n",
        "                        \"iow\" : \"in other words\",\n",
        "                        \"irl\" : \"in real life\",\n",
        "                        \"j4f\" : \"just for fun\",\n",
        "                        \"jic\" : \"just in case\",\n",
        "                        \"jk\" : \"just kidding\",\n",
        "                        \"jsyk\" : \"just so you know\",\n",
        "                        \"l8r\" : \"later\",\n",
        "                        \"lb\" : \"pound\",\n",
        "                        \"lbs\" : \"pounds\",\n",
        "                        \"ldr\" : \"long distance relationship\",\n",
        "                        \"lmao\" : \"laugh my ass off\",\n",
        "                        \"lmfao\" : \"laugh my fucking ass off\",\n",
        "                        \"lol\" : \"laughing out loud\",\n",
        "                        \"ltd\" : \"limited\",\n",
        "                        \"ltns\" : \"long time no see\",\n",
        "                        \"m8\" : \"mate\",\n",
        "                        \"mf\" : \"motherfucker\",\n",
        "                        \"mfs\" : \"motherfuckers\",\n",
        "                        \"mfw\" : \"my face when\",\n",
        "                        \"mofo\" : \"motherfucker\",\n",
        "                        \"mph\" : \"miles per hour\",\n",
        "                        \"mr\" : \"mister\",\n",
        "                        \"mrw\" : \"my reaction when\",\n",
        "                        \"ms\" : \"miss\",\n",
        "                        \"mte\" : \"my thoughts exactly\",\n",
        "                        \"nagi\" : \"not a good idea\",\n",
        "                        \"nbc\" : \"national broadcasting company\",\n",
        "                        \"nbd\" : \"not big deal\",\n",
        "                        \"nfs\" : \"not for sale\",\n",
        "                        \"ngl\" : \"not going to lie\",\n",
        "                        \"nhs\" : \"national health service\",\n",
        "                        \"nrn\" : \"no reply necessary\",\n",
        "                        \"nsfl\" : \"not safe for life\",\n",
        "                        \"nsfw\" : \"not safe for work\",\n",
        "                        \"nth\" : \"nice to have\",\n",
        "                        \"nvr\" : \"never\",\n",
        "                        \"nyc\" : \"new york city\",\n",
        "                        \"oc\" : \"original content\",\n",
        "                        \"og\" : \"original\",\n",
        "                        \"ohp\" : \"overhead projector\",\n",
        "                        \"oic\" : \"oh i see\",\n",
        "                        \"omdb\" : \"over my dead body\",\n",
        "                        \"omg\" : \"oh my god\",\n",
        "                        \"omw\" : \"on my way\",\n",
        "                        \"p.a\" : \"per annum\",\n",
        "                        \"p.m\" : \"after midday\",\n",
        "                        \"pm\" : \"prime minister\",\n",
        "                        \"poc\" : \"people of color\",\n",
        "                        \"pov\" : \"point of view\",\n",
        "                        \"pp\" : \"pages\",\n",
        "                        \"ppl\" : \"people\",\n",
        "                        \"prw\" : \"parents are watching\",\n",
        "                        \"ps\" : \"postscript\",\n",
        "                        \"pt\" : \"point\",\n",
        "                        \"ptb\" : \"please text back\",\n",
        "                        \"pto\" : \"please turn over\",\n",
        "                        \"qpsa\" : \"what happens\", #\"que pasa\",\n",
        "                        \"ratchet\" : \"rude\",\n",
        "                        \"rbtl\" : \"read between the lines\",\n",
        "                        \"rlrt\" : \"real life retweet\", \n",
        "                        \"rofl\" : \"rolling on the floor laughing\",\n",
        "                        \"roflol\" : \"rolling on the floor laughing out loud\",\n",
        "                        \"rotflmao\" : \"rolling on the floor laughing my ass off\",\n",
        "                        \"rt\" : \"retweet\",\n",
        "                        \"ruok\" : \"are you ok\",\n",
        "                        \"sfw\" : \"safe for work\",\n",
        "                        \"sk8\" : \"skate\",\n",
        "                        \"smh\" : \"shake my head\",\n",
        "                        \"sq\" : \"square\",\n",
        "                        \"srsly\" : \"seriously\", \n",
        "                        \"ssdd\" : \"same stuff different day\",\n",
        "                        \"tbh\" : \"to be honest\",\n",
        "                        \"tbs\" : \"tablespooful\",\n",
        "                        \"tbsp\" : \"tablespooful\",\n",
        "                        \"tfw\" : \"that feeling when\",\n",
        "                        \"thks\" : \"thank you\",\n",
        "                        \"tho\" : \"though\",\n",
        "                        \"thx\" : \"thank you\",\n",
        "                        \"tia\" : \"thanks in advance\",\n",
        "                        \"til\" : \"today i learned\",\n",
        "                        \"tl;dr\" : \"too long i did not read\",\n",
        "                        \"tldr\" : \"too long i did not read\",\n",
        "                        \"tmb\" : \"tweet me back\",\n",
        "                        \"tntl\" : \"trying not to laugh\",\n",
        "                        \"ttyl\" : \"talk to you later\",\n",
        "                        \"u\" : \"you\",\n",
        "                        \"u2\" : \"you too\",\n",
        "                        \"u4e\" : \"yours for ever\",\n",
        "                        \"utc\" : \"coordinated universal time\",\n",
        "                        \"w/\" : \"with\",\n",
        "                        \"w/o\" : \"without\",\n",
        "                        \"w8\" : \"wait\",\n",
        "                        \"wassup\" : \"what is up\",\n",
        "                        \"wb\" : \"welcome back\",\n",
        "                        \"wtf\" : \"what the fuck\",\n",
        "                        \"wtg\" : \"way to go\",\n",
        "                        \"wtpa\" : \"where the party at\",\n",
        "                        \"wuf\" : \"where are you from\",\n",
        "                        \"wuzup\" : \"what is up\",\n",
        "                        \"wywh\" : \"wish you were here\",\n",
        "                        \"yd\" : \"yard\",\n",
        "                        \"ygtr\" : \"you got that right\",\n",
        "                        \"ynk\" : \"you never know\",\n",
        "                        \"zzz\" : \"sleeping bored and tired\"\n",
        "                        }\n",
        "            \n",
        "        sample_typos_slang_pattern = re.compile(r'(?<!\\w)(' + '|'.join(re.escape(key) for key in sample_typos_slang.keys()) + r')(?!\\w)')\n",
        "        sample_acronyms_pattern = re.compile(r'(?<!\\w)(' + '|'.join(re.escape(key) for key in sample_acronyms.keys()) + r')(?!\\w)')\n",
        "        sample_abbr_pattern = re.compile(r'(?<!\\w)(' + '|'.join(re.escape(key) for key in sample_abbr.keys()) + r')(?!\\w)')\n",
        "        \n",
        "        tweets = sample_typos_slang_pattern.sub(lambda x: sample_typos_slang[x.group()], tweets)\n",
        "        tweets = sample_acronyms_pattern.sub(lambda x: sample_acronyms[x.group()], tweets)\n",
        "        tweets = sample_abbr_pattern.sub(lambda x: sample_abbr[x.group()], tweets)\n",
        "        \n",
        "        return tweets"
      ],
      "execution_count": 266,
      "outputs": []
    },
    {
      "cell_type": "code",
      "metadata": {
        "id": "T3OcfjXiX7B2"
      },
      "source": [
        "def stem(unstemmed_list):  \n",
        "  ps = PorterStemmer()\n",
        "\n",
        "  final_stemmed_list = []\n",
        "\n",
        "  for i in range(len(unstemmed_list)):\n",
        "    sentence = unstemmed_list[i]\n",
        "    #print(sentence)\n",
        "    words = word_tokenize(sentence)\n",
        "    stemmed_list = []\n",
        "    for w in words:\n",
        "        stemmed_list.append(ps.stem(w))\n",
        "    stemmed_list = ' '.join(stemmed_list)\n",
        "    final_stemmed_list.append(stemmed_list)\n",
        "\n",
        "  return final_stemmed_list"
      ],
      "execution_count": 291,
      "outputs": []
    },
    {
      "cell_type": "code",
      "metadata": {
        "id": "kJce8bIZRGK1"
      },
      "source": [
        "#@title\n",
        "\n",
        "#making the string lower case\n",
        "unstemmed_list = combined['text'].tolist()\n",
        "combined['text'] = stem(unstemmed_list)\n",
        "combined['text'] = combined['text'].str.replace('\\d+', '')"
      ],
      "execution_count": 292,
      "outputs": []
    },
    {
      "cell_type": "code",
      "metadata": {
        "id": "PkgeH5J_vRde",
        "colab": {
          "base_uri": "https://localhost:8080/",
          "height": 359
        },
        "outputId": "a1d4b412-4687-43f2-c2a3-a9921b4c1da5"
      },
      "source": [
        "#@title\n",
        "# CLEAN DATA \n",
        "\n",
        "combined['text'] = combined['text'].apply(lambda x: x.lower())\n",
        "combined['text'] = combined['text'].apply(remove_punctuation)\n",
        "combined['text'] = combined['text'].apply(remove_stopwords)\n",
        "combined['text'] = combined['text'].apply(remove_non_alphabet)\n",
        "#combined['text'] = combined['text'].apply(correct_spellings)\n",
        "combined['text'] = combined['text'].apply(lambda x: remove_emoji(x))\n",
        "combined[\"text\"] = combined[\"text\"].apply(lambda x: expand_slang_abbr_acronyms(x))\n",
        "\n",
        "combined.sample(10)"
      ],
      "execution_count": 293,
      "outputs": [
        {
          "output_type": "execute_result",
          "data": {
            "text/html": [
              "<div>\n",
              "<style scoped>\n",
              "    .dataframe tbody tr th:only-of-type {\n",
              "        vertical-align: middle;\n",
              "    }\n",
              "\n",
              "    .dataframe tbody tr th {\n",
              "        vertical-align: top;\n",
              "    }\n",
              "\n",
              "    .dataframe thead th {\n",
              "        text-align: right;\n",
              "    }\n",
              "</style>\n",
              "<table border=\"1\" class=\"dataframe\">\n",
              "  <thead>\n",
              "    <tr style=\"text-align: right;\">\n",
              "      <th></th>\n",
              "      <th>text</th>\n",
              "      <th>target</th>\n",
              "    </tr>\n",
              "  </thead>\n",
              "  <tbody>\n",
              "    <tr>\n",
              "      <th>5379</th>\n",
              "      <td>sav contact fell wa convinc didnt amp went gua...</td>\n",
              "      <td>0.0</td>\n",
              "    </tr>\n",
              "    <tr>\n",
              "      <th>1195</th>\n",
              "      <td>obama declar disast typhoondevast saipan obama...</td>\n",
              "      <td>NaN</td>\n",
              "    </tr>\n",
              "    <tr>\n",
              "      <th>4206</th>\n",
              "      <td>prime minister hazard high traffic area dean b...</td>\n",
              "      <td>1.0</td>\n",
              "    </tr>\n",
              "    <tr>\n",
              "      <th>3945</th>\n",
              "      <td>w cree led work light bar alloy spot flood com...</td>\n",
              "      <td>0.0</td>\n",
              "    </tr>\n",
              "    <tr>\n",
              "      <th>5822</th>\n",
              "      <td>china s stock market crash gem rubbl tcopbfyjxya</td>\n",
              "      <td>0.0</td>\n",
              "    </tr>\n",
              "    <tr>\n",
              "      <th>2262</th>\n",
              "      <td>nsw bankstown stacey st wattl st hazard oil sp...</td>\n",
              "      <td>NaN</td>\n",
              "    </tr>\n",
              "    <tr>\n",
              "      <th>3812</th>\n",
              "      <td>join chariti run event doningtondash start sun...</td>\n",
              "      <td>0.0</td>\n",
              "    </tr>\n",
              "    <tr>\n",
              "      <th>3234</th>\n",
              "      <td>scienc now piec wreckag flight mh ha confirm i...</td>\n",
              "      <td>NaN</td>\n",
              "    </tr>\n",
              "    <tr>\n",
              "      <th>2439</th>\n",
              "      <td>madhya pradesh train derail villag youth save ...</td>\n",
              "      <td>1.0</td>\n",
              "    </tr>\n",
              "    <tr>\n",
              "      <th>6868</th>\n",
              "      <td>role usg pa major trauma imag decis tool foam ...</td>\n",
              "      <td>0.0</td>\n",
              "    </tr>\n",
              "  </tbody>\n",
              "</table>\n",
              "</div>"
            ],
            "text/plain": [
              "                                                   text  target\n",
              "5379  sav contact fell wa convinc didnt amp went gua...     0.0\n",
              "1195  obama declar disast typhoondevast saipan obama...     NaN\n",
              "4206  prime minister hazard high traffic area dean b...     1.0\n",
              "3945  w cree led work light bar alloy spot flood com...     0.0\n",
              "5822   china s stock market crash gem rubbl tcopbfyjxya     0.0\n",
              "2262  nsw bankstown stacey st wattl st hazard oil sp...     NaN\n",
              "3812  join chariti run event doningtondash start sun...     0.0\n",
              "3234  scienc now piec wreckag flight mh ha confirm i...     NaN\n",
              "2439  madhya pradesh train derail villag youth save ...     1.0\n",
              "6868  role usg pa major trauma imag decis tool foam ...     0.0"
            ]
          },
          "metadata": {
            "tags": []
          },
          "execution_count": 293
        }
      ]
    },
    {
      "cell_type": "markdown",
      "metadata": {
        "id": "St-EmC34ydjt"
      },
      "source": [
        "## Simple LSTM\n"
      ]
    },
    {
      "cell_type": "code",
      "metadata": {
        "id": "YL07VdbWf_yc"
      },
      "source": [
        "tweets = [tweet for tweet in combined['text']]\n",
        "train = combined[:len(train)]\n",
        "test = combined[len(train):]"
      ],
      "execution_count": 343,
      "outputs": []
    },
    {
      "cell_type": "code",
      "metadata": {
        "id": "H5EnQDK0-Ixw"
      },
      "source": [
        "tokenizer = Tokenizer()     \n",
        "tokenizer.fit_on_texts(tweets)\n",
        "sequences = tokenizer.texts_to_sequences(tweets)\n",
        "word_index = tokenizer.word_index\n",
        "pad_sequences = pad_sequences(sequences)\n",
        "labels = train['target']\n",
        "model_train = pad_sequences[:len(train)]\n",
        "model_test = pad_sequences[len(train):]\n",
        "MAX_SEQUENCE_LENGTH = pad_sequences.shape[1]"
      ],
      "execution_count": 344,
      "outputs": []
    },
    {
      "cell_type": "code",
      "metadata": {
        "colab": {
          "base_uri": "https://localhost:8080/"
        },
        "id": "6CXLTIQdDvbo",
        "outputId": "dacdaa23-054a-44be-c50d-bd350492e1fc"
      },
      "source": [
        "embeddings_map = {}\n",
        "with open('glove.6B.200d.txt','r') as f: # choosing 6B variant with 200 dimensions\n",
        "    for li in tqdm(f):\n",
        "        vals = li.split()\n",
        "        word = vals[0]\n",
        "        cofs = np.asarray(vals[1:], dtype='float32')\n",
        "        embeddings_map[word] = cofs\n",
        "f.close()"
      ],
      "execution_count": 345,
      "outputs": [
        {
          "output_type": "stream",
          "text": [
            "400000it [00:22, 17488.80it/s]\n"
          ],
          "name": "stderr"
        }
      ]
    },
    {
      "cell_type": "code",
      "metadata": {
        "colab": {
          "base_uri": "https://localhost:8080/"
        },
        "id": "-xJWEQXddTHA",
        "outputId": "72410d82-2d3d-4c50-c8da-4dab979e0a33"
      },
      "source": [
        "embedding_matrix = np.zeros((len(word_index) + 1, 200))\n",
        "for word, i in tqdm(word_index.items()):\n",
        "    vector = embeddings_map.get(word)\n",
        "    if vector is not None:        \n",
        "        embedding_matrix[i] = vector"
      ],
      "execution_count": 346,
      "outputs": [
        {
          "output_type": "stream",
          "text": [
            "100%|██████████| 29319/29319 [00:00<00:00, 438363.51it/s]\n"
          ],
          "name": "stderr"
        }
      ]
    },
    {
      "cell_type": "code",
      "metadata": {
        "id": "ol5LEcc8w8_2"
      },
      "source": [
        "embedding = Embedding(len(word_index) + 1, 200, weights = [embedding_matrix], input_length = MAX_SEQUENCE_LENGTH, trainable = False)"
      ],
      "execution_count": 347,
      "outputs": []
    },
    {
      "cell_type": "code",
      "metadata": {
        "id": "1ZncVLRwXTUz"
      },
      "source": [
        "# referenced from stack overflow\n",
        "from keras import backend as K\n",
        "\n",
        "def recall_m(y_true, y_pred):\n",
        "    true_positives = K.sum(K.round(K.clip(y_true * y_pred, 0, 1)))\n",
        "    possible_positives = K.sum(K.round(K.clip(y_true, 0, 1)))\n",
        "    recall = true_positives / (possible_positives + K.epsilon())\n",
        "    return recall\n",
        "\n",
        "def precision_m(y_true, y_pred):\n",
        "    true_positives = K.sum(K.round(K.clip(y_true * y_pred, 0, 1)))\n",
        "    predicted_positives = K.sum(K.round(K.clip(y_pred, 0, 1)))\n",
        "    precision = true_positives / (predicted_positives + K.epsilon())\n",
        "    return precision\n",
        "\n",
        "def f1_m(y_true, y_pred):\n",
        "    precision = precision_m(y_true, y_pred)\n",
        "    recall = recall_m(y_true, y_pred)\n",
        "    return 2*((precision*recall)/(precision+recall+K.epsilon()))"
      ],
      "execution_count": 348,
      "outputs": []
    },
    {
      "cell_type": "code",
      "metadata": {
        "id": "HpXaZ671McoT"
      },
      "source": [
        "def lstm_model(dropout, recurrent_dropout, learning_rate):\n",
        "    input = Input(shape = (MAX_SEQUENCE_LENGTH,), name = 'input')\n",
        "    embed = embedding(input)\n",
        "    \n",
        "    out = (LSTM(100, dropout = dropout, recurrent_dropout = recurrent_dropout, kernel_initializer = 'orthogonal'))(embed)        \n",
        "    \n",
        "    activation_function = LeakyReLU(alpha = 0.01)\n",
        "    dense_layer = Dense(1, activation=activation_function, kernel_regularizer = regularizers.l2(1e-4))(out)\n",
        "    \n",
        "    optimizer = Adam(learning_rate = learning_rate)\n",
        "    model = Model(inputs=input, outputs = dense_layer)\n",
        "    model.compile(loss = 'binary_crossentropy', optimizer = optimizer, metrics = ['accuracy', f1_m, precision_m, recall_m])\n",
        "    \n",
        "    return model"
      ],
      "execution_count": 349,
      "outputs": []
    },
    {
      "cell_type": "code",
      "metadata": {
        "id": "JYoXY4DK31Ry",
        "colab": {
          "base_uri": "https://localhost:8080/"
        },
        "outputId": "1a77d264-e6cb-42e1-c3c5-a93618b39cfb"
      },
      "source": [
        "model = lstm_model(dropout = 0.2, recurrent_dropout = 0.2, learning_rate = 3e-4)\n",
        "model.summary()"
      ],
      "execution_count": 350,
      "outputs": [
        {
          "output_type": "stream",
          "text": [
            "Model: \"model_14\"\n",
            "_________________________________________________________________\n",
            "Layer (type)                 Output Shape              Param #   \n",
            "=================================================================\n",
            "input (InputLayer)           [(None, 33)]              0         \n",
            "_________________________________________________________________\n",
            "embedding_13 (Embedding)     (None, 33, 200)           5864000   \n",
            "_________________________________________________________________\n",
            "lstm_15 (LSTM)               (None, 100)               120400    \n",
            "_________________________________________________________________\n",
            "dense_14 (Dense)             (None, 1)                 101       \n",
            "=================================================================\n",
            "Total params: 5,984,501\n",
            "Trainable params: 120,501\n",
            "Non-trainable params: 5,864,000\n",
            "_________________________________________________________________\n"
          ],
          "name": "stdout"
        }
      ]
    },
    {
      "cell_type": "code",
      "metadata": {
        "colab": {
          "base_uri": "https://localhost:8080/"
        },
        "id": "Tq9_wTNiMorB",
        "outputId": "1945773b-2cf6-44a5-9869-f6d8099cd93f"
      },
      "source": [
        "his = model.fit([model_train], labels, validation_split = .2, epochs = 5, batch_size = 21, verbose = 1)"
      ],
      "execution_count": 352,
      "outputs": [
        {
          "output_type": "stream",
          "text": [
            "Epoch 1/5\n",
            "290/290 [==============================] - 20s 68ms/step - loss: 0.5702 - accuracy: 0.7297 - f1_m: 0.6538 - precision_m: 0.6887 - recall_m: 0.6472 - val_loss: 0.5672 - val_accuracy: 0.7531 - val_f1_m: 0.5791 - val_precision_m: 0.6200 - val_recall_m: 0.5703\n",
            "Epoch 2/5\n",
            "290/290 [==============================] - 20s 68ms/step - loss: 0.5541 - accuracy: 0.7468 - f1_m: 0.6682 - precision_m: 0.7320 - recall_m: 0.6410 - val_loss: 0.5447 - val_accuracy: 0.7630 - val_f1_m: 0.5875 - val_precision_m: 0.6426 - val_recall_m: 0.5752\n",
            "Epoch 3/5\n",
            "290/290 [==============================] - 20s 68ms/step - loss: 0.5303 - accuracy: 0.7539 - f1_m: 0.6888 - precision_m: 0.7201 - recall_m: 0.6875 - val_loss: 0.5321 - val_accuracy: 0.7682 - val_f1_m: 0.6148 - val_precision_m: 0.6320 - val_recall_m: 0.6253\n",
            "Epoch 4/5\n",
            "290/290 [==============================] - 20s 68ms/step - loss: 0.5180 - accuracy: 0.7681 - f1_m: 0.6832 - precision_m: 0.7616 - recall_m: 0.6442 - val_loss: 0.5144 - val_accuracy: 0.7794 - val_f1_m: 0.6032 - val_precision_m: 0.6673 - val_recall_m: 0.5810\n",
            "Epoch 5/5\n",
            "290/290 [==============================] - 20s 69ms/step - loss: 0.5093 - accuracy: 0.7568 - f1_m: 0.7030 - precision_m: 0.7176 - recall_m: 0.7213 - val_loss: 0.5108 - val_accuracy: 0.7814 - val_f1_m: 0.5987 - val_precision_m: 0.6686 - val_recall_m: 0.5687\n"
          ],
          "name": "stdout"
        }
      ]
    }
  ]
}