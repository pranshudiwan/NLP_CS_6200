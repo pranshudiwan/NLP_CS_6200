{
  "nbformat": 4,
  "nbformat_minor": 0,
  "metadata": {
    "colab": {
      "name": "NLP_test.ipynb",
      "provenance": [],
      "authorship_tag": "ABX9TyMnKpSKx8xl01pRTlL9o6IN",
      "include_colab_link": true
    },
    "kernelspec": {
      "name": "python3",
      "display_name": "Python 3"
    },
    "language_info": {
      "name": "python"
    }
  },
  "cells": [
    {
      "cell_type": "markdown",
      "metadata": {
        "id": "view-in-github",
        "colab_type": "text"
      },
      "source": [
        "<a href=\"https://colab.research.google.com/github/pranshudiwan/NLP_CS_6200/blob/main/NLP_test.ipynb\" target=\"_parent\"><img src=\"https://colab.research.google.com/assets/colab-badge.svg\" alt=\"Open In Colab\"/></a>"
      ]
    },
    {
      "cell_type": "code",
      "metadata": {
        "id": "_p4mvnCjhCs8"
      },
      "source": [
        "# Import Libraries\n",
        "import pandas as pd"
      ],
      "execution_count": 1,
      "outputs": []
    },
    {
      "cell_type": "code",
      "metadata": {
        "id": "HoYVyeq38M2n"
      },
      "source": [
        "# Import train data\n",
        "url_train = 'https://raw.githubusercontent.com/pranshudiwan/NLP_CS_6200/main/train.csv'\n",
        "train = pd.read_csv(url_train)\n",
        "\n",
        "# Import est data\n",
        "url_test = 'https://raw.githubusercontent.com/pranshudiwan/NLP_CS_6200/main/test.csv'\n",
        "test = pd.read_csv(url_test)"
      ],
      "execution_count": 16,
      "outputs": []
    },
    {
      "cell_type": "code",
      "metadata": {
        "id": "a1vazPBA8eur",
        "colab": {
          "base_uri": "https://localhost:8080/",
          "height": 202
        },
        "outputId": "64107e88-07da-447e-987b-86148147e7c6"
      },
      "source": [
        "train.head()"
      ],
      "execution_count": 17,
      "outputs": [
        {
          "output_type": "execute_result",
          "data": {
            "text/html": [
              "<div>\n",
              "<style scoped>\n",
              "    .dataframe tbody tr th:only-of-type {\n",
              "        vertical-align: middle;\n",
              "    }\n",
              "\n",
              "    .dataframe tbody tr th {\n",
              "        vertical-align: top;\n",
              "    }\n",
              "\n",
              "    .dataframe thead th {\n",
              "        text-align: right;\n",
              "    }\n",
              "</style>\n",
              "<table border=\"1\" class=\"dataframe\">\n",
              "  <thead>\n",
              "    <tr style=\"text-align: right;\">\n",
              "      <th></th>\n",
              "      <th>id</th>\n",
              "      <th>keyword</th>\n",
              "      <th>location</th>\n",
              "      <th>text</th>\n",
              "      <th>target</th>\n",
              "    </tr>\n",
              "  </thead>\n",
              "  <tbody>\n",
              "    <tr>\n",
              "      <th>0</th>\n",
              "      <td>1</td>\n",
              "      <td>NaN</td>\n",
              "      <td>NaN</td>\n",
              "      <td>Our Deeds are the Reason of this #earthquake M...</td>\n",
              "      <td>1</td>\n",
              "    </tr>\n",
              "    <tr>\n",
              "      <th>1</th>\n",
              "      <td>4</td>\n",
              "      <td>NaN</td>\n",
              "      <td>NaN</td>\n",
              "      <td>Forest fire near La Ronge Sask. Canada</td>\n",
              "      <td>1</td>\n",
              "    </tr>\n",
              "    <tr>\n",
              "      <th>2</th>\n",
              "      <td>5</td>\n",
              "      <td>NaN</td>\n",
              "      <td>NaN</td>\n",
              "      <td>All residents asked to 'shelter in place' are ...</td>\n",
              "      <td>1</td>\n",
              "    </tr>\n",
              "    <tr>\n",
              "      <th>3</th>\n",
              "      <td>6</td>\n",
              "      <td>NaN</td>\n",
              "      <td>NaN</td>\n",
              "      <td>13,000 people receive #wildfires evacuation or...</td>\n",
              "      <td>1</td>\n",
              "    </tr>\n",
              "    <tr>\n",
              "      <th>4</th>\n",
              "      <td>7</td>\n",
              "      <td>NaN</td>\n",
              "      <td>NaN</td>\n",
              "      <td>Just got sent this photo from Ruby #Alaska as ...</td>\n",
              "      <td>1</td>\n",
              "    </tr>\n",
              "  </tbody>\n",
              "</table>\n",
              "</div>"
            ],
            "text/plain": [
              "   id keyword  ...                                               text target\n",
              "0   1     NaN  ...  Our Deeds are the Reason of this #earthquake M...      1\n",
              "1   4     NaN  ...             Forest fire near La Ronge Sask. Canada      1\n",
              "2   5     NaN  ...  All residents asked to 'shelter in place' are ...      1\n",
              "3   6     NaN  ...  13,000 people receive #wildfires evacuation or...      1\n",
              "4   7     NaN  ...  Just got sent this photo from Ruby #Alaska as ...      1\n",
              "\n",
              "[5 rows x 5 columns]"
            ]
          },
          "metadata": {
            "tags": []
          },
          "execution_count": 17
        }
      ]
    },
    {
      "cell_type": "code",
      "metadata": {
        "id": "sxj1MIls8lad",
        "colab": {
          "base_uri": "https://localhost:8080/",
          "height": 202
        },
        "outputId": "034686f3-b9c9-4364-bcac-39ab8fae3405"
      },
      "source": [
        "test.head()"
      ],
      "execution_count": 18,
      "outputs": [
        {
          "output_type": "execute_result",
          "data": {
            "text/html": [
              "<div>\n",
              "<style scoped>\n",
              "    .dataframe tbody tr th:only-of-type {\n",
              "        vertical-align: middle;\n",
              "    }\n",
              "\n",
              "    .dataframe tbody tr th {\n",
              "        vertical-align: top;\n",
              "    }\n",
              "\n",
              "    .dataframe thead th {\n",
              "        text-align: right;\n",
              "    }\n",
              "</style>\n",
              "<table border=\"1\" class=\"dataframe\">\n",
              "  <thead>\n",
              "    <tr style=\"text-align: right;\">\n",
              "      <th></th>\n",
              "      <th>id</th>\n",
              "      <th>keyword</th>\n",
              "      <th>location</th>\n",
              "      <th>text</th>\n",
              "    </tr>\n",
              "  </thead>\n",
              "  <tbody>\n",
              "    <tr>\n",
              "      <th>0</th>\n",
              "      <td>0</td>\n",
              "      <td>NaN</td>\n",
              "      <td>NaN</td>\n",
              "      <td>Just happened a terrible car crash</td>\n",
              "    </tr>\n",
              "    <tr>\n",
              "      <th>1</th>\n",
              "      <td>2</td>\n",
              "      <td>NaN</td>\n",
              "      <td>NaN</td>\n",
              "      <td>Heard about #earthquake is different cities, s...</td>\n",
              "    </tr>\n",
              "    <tr>\n",
              "      <th>2</th>\n",
              "      <td>3</td>\n",
              "      <td>NaN</td>\n",
              "      <td>NaN</td>\n",
              "      <td>there is a forest fire at spot pond, geese are...</td>\n",
              "    </tr>\n",
              "    <tr>\n",
              "      <th>3</th>\n",
              "      <td>9</td>\n",
              "      <td>NaN</td>\n",
              "      <td>NaN</td>\n",
              "      <td>Apocalypse lighting. #Spokane #wildfires</td>\n",
              "    </tr>\n",
              "    <tr>\n",
              "      <th>4</th>\n",
              "      <td>11</td>\n",
              "      <td>NaN</td>\n",
              "      <td>NaN</td>\n",
              "      <td>Typhoon Soudelor kills 28 in China and Taiwan</td>\n",
              "    </tr>\n",
              "  </tbody>\n",
              "</table>\n",
              "</div>"
            ],
            "text/plain": [
              "   id keyword location                                               text\n",
              "0   0     NaN      NaN                 Just happened a terrible car crash\n",
              "1   2     NaN      NaN  Heard about #earthquake is different cities, s...\n",
              "2   3     NaN      NaN  there is a forest fire at spot pond, geese are...\n",
              "3   9     NaN      NaN           Apocalypse lighting. #Spokane #wildfires\n",
              "4  11     NaN      NaN      Typhoon Soudelor kills 28 in China and Taiwan"
            ]
          },
          "metadata": {
            "tags": []
          },
          "execution_count": 18
        }
      ]
    },
    {
      "cell_type": "code",
      "metadata": {
        "id": "QPqGcGcM8p8s",
        "colab": {
          "base_uri": "https://localhost:8080/"
        },
        "outputId": "73e0328e-f184-430c-bd3b-86630a0ba641"
      },
      "source": [
        "train.info()"
      ],
      "execution_count": 19,
      "outputs": [
        {
          "output_type": "stream",
          "text": [
            "<class 'pandas.core.frame.DataFrame'>\n",
            "RangeIndex: 7613 entries, 0 to 7612\n",
            "Data columns (total 5 columns):\n",
            " #   Column    Non-Null Count  Dtype \n",
            "---  ------    --------------  ----- \n",
            " 0   id        7613 non-null   int64 \n",
            " 1   keyword   7552 non-null   object\n",
            " 2   location  5080 non-null   object\n",
            " 3   text      7613 non-null   object\n",
            " 4   target    7613 non-null   int64 \n",
            "dtypes: int64(2), object(3)\n",
            "memory usage: 297.5+ KB\n"
          ],
          "name": "stdout"
        }
      ]
    },
    {
      "cell_type": "markdown",
      "metadata": {
        "id": "sRbdeqan9Sjf"
      },
      "source": [
        "Thus we have some null values in keyword and location columns. "
      ]
    },
    {
      "cell_type": "code",
      "metadata": {
        "id": "yx1sLwW69PVT",
        "colab": {
          "base_uri": "https://localhost:8080/",
          "height": 355
        },
        "outputId": "a475f5ea-3f49-4021-f146-9b84206a77d3"
      },
      "source": [
        "train.sample(10)"
      ],
      "execution_count": 20,
      "outputs": [
        {
          "output_type": "execute_result",
          "data": {
            "text/html": [
              "<div>\n",
              "<style scoped>\n",
              "    .dataframe tbody tr th:only-of-type {\n",
              "        vertical-align: middle;\n",
              "    }\n",
              "\n",
              "    .dataframe tbody tr th {\n",
              "        vertical-align: top;\n",
              "    }\n",
              "\n",
              "    .dataframe thead th {\n",
              "        text-align: right;\n",
              "    }\n",
              "</style>\n",
              "<table border=\"1\" class=\"dataframe\">\n",
              "  <thead>\n",
              "    <tr style=\"text-align: right;\">\n",
              "      <th></th>\n",
              "      <th>id</th>\n",
              "      <th>keyword</th>\n",
              "      <th>location</th>\n",
              "      <th>text</th>\n",
              "      <th>target</th>\n",
              "    </tr>\n",
              "  </thead>\n",
              "  <tbody>\n",
              "    <tr>\n",
              "      <th>4359</th>\n",
              "      <td>6193</td>\n",
              "      <td>hijacker</td>\n",
              "      <td>Sarasota, FL</td>\n",
              "      <td>Remove the http://t.co/Xxj2B4JxRt and Linkury ...</td>\n",
              "      <td>0</td>\n",
              "    </tr>\n",
              "    <tr>\n",
              "      <th>2961</th>\n",
              "      <td>4253</td>\n",
              "      <td>drowning</td>\n",
              "      <td>Numa casa de old yellow bricks</td>\n",
              "      <td>LONDON IS DROWNING AND IIII LIVE BY THE RIVEEE...</td>\n",
              "      <td>1</td>\n",
              "    </tr>\n",
              "    <tr>\n",
              "      <th>6592</th>\n",
              "      <td>9439</td>\n",
              "      <td>survivors</td>\n",
              "      <td>Numenor</td>\n",
              "      <td>Haley Lu Richardson Fights for Water in The La...</td>\n",
              "      <td>0</td>\n",
              "    </tr>\n",
              "    <tr>\n",
              "      <th>1576</th>\n",
              "      <td>2277</td>\n",
              "      <td>cliff%20fall</td>\n",
              "      <td>NaN</td>\n",
              "      <td>I hope they fall off a cliff.</td>\n",
              "      <td>0</td>\n",
              "    </tr>\n",
              "    <tr>\n",
              "      <th>1128</th>\n",
              "      <td>1626</td>\n",
              "      <td>bombed</td>\n",
              "      <td>Warwick, RI @Dollarocracy also</td>\n",
              "      <td>Storm in RI worse than last hurricane. My city...</td>\n",
              "      <td>1</td>\n",
              "    </tr>\n",
              "    <tr>\n",
              "      <th>6412</th>\n",
              "      <td>9169</td>\n",
              "      <td>suicide%20bomber</td>\n",
              "      <td>Indonesia</td>\n",
              "      <td>Suicide bomber kills 15 in Saudi security site...</td>\n",
              "      <td>1</td>\n",
              "    </tr>\n",
              "    <tr>\n",
              "      <th>6553</th>\n",
              "      <td>9376</td>\n",
              "      <td>survived</td>\n",
              "      <td>NaN</td>\n",
              "      <td>Only one man Tsutomi Yamaguchi is said to have...</td>\n",
              "      <td>1</td>\n",
              "    </tr>\n",
              "    <tr>\n",
              "      <th>6368</th>\n",
              "      <td>9100</td>\n",
              "      <td>suicide%20bomb</td>\n",
              "      <td>Lagos</td>\n",
              "      <td>Pic of 16yr old PKK suicide bomber who detonat...</td>\n",
              "      <td>1</td>\n",
              "    </tr>\n",
              "    <tr>\n",
              "      <th>1505</th>\n",
              "      <td>2173</td>\n",
              "      <td>catastrophic</td>\n",
              "      <td>Quito, Ecuador.</td>\n",
              "      <td>Learning from the Legacy of a Catastrophic Eru...</td>\n",
              "      <td>1</td>\n",
              "    </tr>\n",
              "    <tr>\n",
              "      <th>4432</th>\n",
              "      <td>6305</td>\n",
              "      <td>hostage</td>\n",
              "      <td>NaN</td>\n",
              "      <td>When u get mugged with ur gf u come up with th...</td>\n",
              "      <td>0</td>\n",
              "    </tr>\n",
              "  </tbody>\n",
              "</table>\n",
              "</div>"
            ],
            "text/plain": [
              "        id  ... target\n",
              "4359  6193  ...      0\n",
              "2961  4253  ...      1\n",
              "6592  9439  ...      0\n",
              "1576  2277  ...      0\n",
              "1128  1626  ...      1\n",
              "6412  9169  ...      1\n",
              "6553  9376  ...      1\n",
              "6368  9100  ...      1\n",
              "1505  2173  ...      1\n",
              "4432  6305  ...      0\n",
              "\n",
              "[10 rows x 5 columns]"
            ]
          },
          "metadata": {
            "tags": []
          },
          "execution_count": 20
        }
      ]
    },
    {
      "cell_type": "code",
      "metadata": {
        "id": "RkpRy3Rg9ZkX"
      },
      "source": [
        "import re\n",
        "train['text'] = train['text'].map(lambda x: re.sub(r'\\W+', ' ', x))"
      ],
      "execution_count": 21,
      "outputs": []
    },
    {
      "cell_type": "code",
      "metadata": {
        "id": "g_5lfbkp9gu5",
        "outputId": "4ffd8c57-4c89-431d-ed1e-6b960811b955",
        "colab": {
          "base_uri": "https://localhost:8080/",
          "height": 202
        }
      },
      "source": [
        "train.sample(5)"
      ],
      "execution_count": 22,
      "outputs": [
        {
          "output_type": "execute_result",
          "data": {
            "text/html": [
              "<div>\n",
              "<style scoped>\n",
              "    .dataframe tbody tr th:only-of-type {\n",
              "        vertical-align: middle;\n",
              "    }\n",
              "\n",
              "    .dataframe tbody tr th {\n",
              "        vertical-align: top;\n",
              "    }\n",
              "\n",
              "    .dataframe thead th {\n",
              "        text-align: right;\n",
              "    }\n",
              "</style>\n",
              "<table border=\"1\" class=\"dataframe\">\n",
              "  <thead>\n",
              "    <tr style=\"text-align: right;\">\n",
              "      <th></th>\n",
              "      <th>id</th>\n",
              "      <th>keyword</th>\n",
              "      <th>location</th>\n",
              "      <th>text</th>\n",
              "      <th>target</th>\n",
              "    </tr>\n",
              "  </thead>\n",
              "  <tbody>\n",
              "    <tr>\n",
              "      <th>55</th>\n",
              "      <td>79</td>\n",
              "      <td>ablaze</td>\n",
              "      <td>USA</td>\n",
              "      <td>Kurds trampling on Turkmen flag later set it ...</td>\n",
              "      <td>1</td>\n",
              "    </tr>\n",
              "    <tr>\n",
              "      <th>6726</th>\n",
              "      <td>9639</td>\n",
              "      <td>thunderstorm</td>\n",
              "      <td>Oklahoma City</td>\n",
              "      <td>Severe Thunderstorm Warning for Oklahoma Count...</td>\n",
              "      <td>1</td>\n",
              "    </tr>\n",
              "    <tr>\n",
              "      <th>5075</th>\n",
              "      <td>7234</td>\n",
              "      <td>natural%20disaster</td>\n",
              "      <td>Pennsylvania, USA</td>\n",
              "      <td>BookTubeAThon A world in which people aren t ...</td>\n",
              "      <td>0</td>\n",
              "    </tr>\n",
              "    <tr>\n",
              "      <th>4685</th>\n",
              "      <td>6661</td>\n",
              "      <td>landslide</td>\n",
              "      <td>New York City</td>\n",
              "      <td>Inbounds Out of Bounds While many picked the N...</td>\n",
              "      <td>1</td>\n",
              "    </tr>\n",
              "    <tr>\n",
              "      <th>2679</th>\n",
              "      <td>3841</td>\n",
              "      <td>detonate</td>\n",
              "      <td>Morioh, Japan</td>\n",
              "      <td>TinyJecht Are you another Stand user If you a...</td>\n",
              "      <td>0</td>\n",
              "    </tr>\n",
              "  </tbody>\n",
              "</table>\n",
              "</div>"
            ],
            "text/plain": [
              "        id  ... target\n",
              "55      79  ...      1\n",
              "6726  9639  ...      1\n",
              "5075  7234  ...      0\n",
              "4685  6661  ...      1\n",
              "2679  3841  ...      0\n",
              "\n",
              "[5 rows x 5 columns]"
            ]
          },
          "metadata": {
            "tags": []
          },
          "execution_count": 22
        }
      ]
    },
    {
      "cell_type": "code",
      "metadata": {
        "id": "NtOr8KV29gxC"
      },
      "source": [
        "train = train.apply(lambda x: x.astype(str).str.lower())"
      ],
      "execution_count": 23,
      "outputs": []
    },
    {
      "cell_type": "code",
      "metadata": {
        "id": "EOu8oprz9gzw",
        "outputId": "791dae3b-c1ee-4c85-9290-7ad476c905e1",
        "colab": {
          "base_uri": "https://localhost:8080/",
          "height": 202
        }
      },
      "source": [
        "train.sample(5)"
      ],
      "execution_count": 24,
      "outputs": [
        {
          "output_type": "execute_result",
          "data": {
            "text/html": [
              "<div>\n",
              "<style scoped>\n",
              "    .dataframe tbody tr th:only-of-type {\n",
              "        vertical-align: middle;\n",
              "    }\n",
              "\n",
              "    .dataframe tbody tr th {\n",
              "        vertical-align: top;\n",
              "    }\n",
              "\n",
              "    .dataframe thead th {\n",
              "        text-align: right;\n",
              "    }\n",
              "</style>\n",
              "<table border=\"1\" class=\"dataframe\">\n",
              "  <thead>\n",
              "    <tr style=\"text-align: right;\">\n",
              "      <th></th>\n",
              "      <th>id</th>\n",
              "      <th>keyword</th>\n",
              "      <th>location</th>\n",
              "      <th>text</th>\n",
              "      <th>target</th>\n",
              "    </tr>\n",
              "  </thead>\n",
              "  <tbody>\n",
              "    <tr>\n",
              "      <th>4354</th>\n",
              "      <td>6185</td>\n",
              "      <td>hijacker</td>\n",
              "      <td>nan</td>\n",
              "      <td>governor allows parole for school bus hijacker...</td>\n",
              "      <td>1</td>\n",
              "    </tr>\n",
              "    <tr>\n",
              "      <th>2446</th>\n",
              "      <td>3512</td>\n",
              "      <td>derailment</td>\n",
              "      <td>nan</td>\n",
              "      <td>modiministry madhya pradesh train derailment ...</td>\n",
              "      <td>1</td>\n",
              "    </tr>\n",
              "    <tr>\n",
              "      <th>1021</th>\n",
              "      <td>1483</td>\n",
              "      <td>body%20bags</td>\n",
              "      <td>nan</td>\n",
              "      <td>child shoulder bags pvc shoulder book bag cart...</td>\n",
              "      <td>0</td>\n",
              "    </tr>\n",
              "    <tr>\n",
              "      <th>7266</th>\n",
              "      <td>10402</td>\n",
              "      <td>whirlwind</td>\n",
              "      <td>world</td>\n",
              "      <td>pawsox owners public return from whirlwind tri...</td>\n",
              "      <td>0</td>\n",
              "    </tr>\n",
              "    <tr>\n",
              "      <th>5165</th>\n",
              "      <td>7366</td>\n",
              "      <td>obliterate</td>\n",
              "      <td>united kingdom</td>\n",
              "      <td>wwe 2k15 universe mode part 149 obliterate htt...</td>\n",
              "      <td>0</td>\n",
              "    </tr>\n",
              "  </tbody>\n",
              "</table>\n",
              "</div>"
            ],
            "text/plain": [
              "         id  ... target\n",
              "4354   6185  ...      1\n",
              "2446   3512  ...      1\n",
              "1021   1483  ...      0\n",
              "7266  10402  ...      0\n",
              "5165   7366  ...      0\n",
              "\n",
              "[5 rows x 5 columns]"
            ]
          },
          "metadata": {
            "tags": []
          },
          "execution_count": 24
        }
      ]
    },
    {
      "cell_type": "code",
      "metadata": {
        "id": "DvGsfpbH9g1x",
        "outputId": "bee4732d-1dc9-4c11-c6e9-97ee5b91628a",
        "colab": {
          "base_uri": "https://localhost:8080/",
          "height": 202
        }
      },
      "source": [
        "train['keyword'] = train['keyword'].map(lambda x: re.sub(r'\\W+', ' ', x))\n",
        "train['location'] = train['location'].map(lambda x: re.sub(r'\\W+', ' ', x))\n",
        "train.sample(5)"
      ],
      "execution_count": 25,
      "outputs": [
        {
          "output_type": "execute_result",
          "data": {
            "text/html": [
              "<div>\n",
              "<style scoped>\n",
              "    .dataframe tbody tr th:only-of-type {\n",
              "        vertical-align: middle;\n",
              "    }\n",
              "\n",
              "    .dataframe tbody tr th {\n",
              "        vertical-align: top;\n",
              "    }\n",
              "\n",
              "    .dataframe thead th {\n",
              "        text-align: right;\n",
              "    }\n",
              "</style>\n",
              "<table border=\"1\" class=\"dataframe\">\n",
              "  <thead>\n",
              "    <tr style=\"text-align: right;\">\n",
              "      <th></th>\n",
              "      <th>id</th>\n",
              "      <th>keyword</th>\n",
              "      <th>location</th>\n",
              "      <th>text</th>\n",
              "      <th>target</th>\n",
              "    </tr>\n",
              "  </thead>\n",
              "  <tbody>\n",
              "    <tr>\n",
              "      <th>4477</th>\n",
              "      <td>6369</td>\n",
              "      <td>hostages</td>\n",
              "      <td>rocky mountains</td>\n",
              "      <td>sinjar massacre yazidis blast lack of action ...</td>\n",
              "      <td>1</td>\n",
              "    </tr>\n",
              "    <tr>\n",
              "      <th>1949</th>\n",
              "      <td>2802</td>\n",
              "      <td>curfew</td>\n",
              "      <td>hamilton on</td>\n",
              "      <td>when u bombed and u try 2 get home for curfew ...</td>\n",
              "      <td>0</td>\n",
              "    </tr>\n",
              "    <tr>\n",
              "      <th>5953</th>\n",
              "      <td>8504</td>\n",
              "      <td>screaming</td>\n",
              "      <td>tx</td>\n",
              "      <td>camilacabello97 now im internally screaming</td>\n",
              "      <td>0</td>\n",
              "    </tr>\n",
              "    <tr>\n",
              "      <th>6845</th>\n",
              "      <td>9810</td>\n",
              "      <td>trauma</td>\n",
              "      <td>montgomery county md</td>\n",
              "      <td>in response to trauma children of addicts deve...</td>\n",
              "      <td>0</td>\n",
              "    </tr>\n",
              "    <tr>\n",
              "      <th>6583</th>\n",
              "      <td>9422</td>\n",
              "      <td>survivors</td>\n",
              "      <td>upstairs</td>\n",
              "      <td>the second part which focuses on the survivors...</td>\n",
              "      <td>1</td>\n",
              "    </tr>\n",
              "  </tbody>\n",
              "</table>\n",
              "</div>"
            ],
            "text/plain": [
              "        id    keyword  ...                                               text target\n",
              "4477  6369   hostages  ...   sinjar massacre yazidis blast lack of action ...      1\n",
              "1949  2802     curfew  ...  when u bombed and u try 2 get home for curfew ...      0\n",
              "5953  8504  screaming  ...        camilacabello97 now im internally screaming      0\n",
              "6845  9810     trauma  ...  in response to trauma children of addicts deve...      0\n",
              "6583  9422  survivors  ...  the second part which focuses on the survivors...      1\n",
              "\n",
              "[5 rows x 5 columns]"
            ]
          },
          "metadata": {
            "tags": []
          },
          "execution_count": 25
        }
      ]
    },
    {
      "cell_type": "code",
      "metadata": {
        "id": "QoAaFxpTjdW_",
        "outputId": "8b6496c1-49db-4c6b-e773-b1266d2da673",
        "colab": {
          "base_uri": "https://localhost:8080/",
          "height": 202
        }
      },
      "source": [
        "def remove_emoji(text):\n",
        "    emoji_pattern = re.compile(\"[\"\n",
        "                           u\"\\U0001F600-\\U0001F64F\"  # emoticons\n",
        "                           u\"\\U0001F300-\\U0001F5FF\"  # symbols & pictographs\n",
        "                           u\"\\U0001F680-\\U0001F6FF\"  # transport & map symbols\n",
        "                           u\"\\U0001F1E0-\\U0001F1FF\"  # flags (iOS)\n",
        "                           u\"\\U00002702-\\U000027B0\"\n",
        "                           u\"\\U000024C2-\\U0001F251\"\n",
        "                           \"]+\", flags=re.UNICODE)\n",
        "    return emoji_pattern.sub(r'', text)\n",
        "\n",
        "train['text']=train['text'].apply(lambda x: remove_emoji(x))\n",
        "train.sample(5)"
      ],
      "execution_count": 26,
      "outputs": [
        {
          "output_type": "execute_result",
          "data": {
            "text/html": [
              "<div>\n",
              "<style scoped>\n",
              "    .dataframe tbody tr th:only-of-type {\n",
              "        vertical-align: middle;\n",
              "    }\n",
              "\n",
              "    .dataframe tbody tr th {\n",
              "        vertical-align: top;\n",
              "    }\n",
              "\n",
              "    .dataframe thead th {\n",
              "        text-align: right;\n",
              "    }\n",
              "</style>\n",
              "<table border=\"1\" class=\"dataframe\">\n",
              "  <thead>\n",
              "    <tr style=\"text-align: right;\">\n",
              "      <th></th>\n",
              "      <th>id</th>\n",
              "      <th>keyword</th>\n",
              "      <th>location</th>\n",
              "      <th>text</th>\n",
              "      <th>target</th>\n",
              "    </tr>\n",
              "  </thead>\n",
              "  <tbody>\n",
              "    <tr>\n",
              "      <th>3587</th>\n",
              "      <td>5125</td>\n",
              "      <td>fatal</td>\n",
              "      <td>winnipeg</td>\n",
              "      <td>winnipeg police seek witnesses in arlington an...</td>\n",
              "      <td>1</td>\n",
              "    </tr>\n",
              "    <tr>\n",
              "      <th>6374</th>\n",
              "      <td>9109</td>\n",
              "      <td>suicide 20bomb</td>\n",
              "      <td>gidi</td>\n",
              "      <td>pic of 16yr old pkk suicide bomber who detonat...</td>\n",
              "      <td>1</td>\n",
              "    </tr>\n",
              "    <tr>\n",
              "      <th>4296</th>\n",
              "      <td>6102</td>\n",
              "      <td>hellfire</td>\n",
              "      <td>nan</td>\n",
              "      <td>jyheffect my good you stay in ny</td>\n",
              "      <td>0</td>\n",
              "    </tr>\n",
              "    <tr>\n",
              "      <th>3828</th>\n",
              "      <td>5446</td>\n",
              "      <td>first 20responders</td>\n",
              "      <td>usa</td>\n",
              "      <td>first responders convene for national summit a...</td>\n",
              "      <td>0</td>\n",
              "    </tr>\n",
              "    <tr>\n",
              "      <th>6114</th>\n",
              "      <td>8728</td>\n",
              "      <td>sinking</td>\n",
              "      <td>ciudad autì_noma de buenos aires argentina</td>\n",
              "      <td>i m sinking down in the darkest dream so deep...</td>\n",
              "      <td>0</td>\n",
              "    </tr>\n",
              "  </tbody>\n",
              "</table>\n",
              "</div>"
            ],
            "text/plain": [
              "        id  ... target\n",
              "3587  5125  ...      1\n",
              "6374  9109  ...      1\n",
              "4296  6102  ...      0\n",
              "3828  5446  ...      0\n",
              "6114  8728  ...      0\n",
              "\n",
              "[5 rows x 5 columns]"
            ]
          },
          "metadata": {
            "tags": []
          },
          "execution_count": 26
        }
      ]
    },
    {
      "cell_type": "code",
      "metadata": {
        "id": "Tcr9i7wojdZT",
        "outputId": "8f47a633-3e1c-4f2b-ab00-0ec14160e7c1",
        "colab": {
          "base_uri": "https://localhost:8080/"
        }
      },
      "source": [
        "!pip install pyspellchecker"
      ],
      "execution_count": 27,
      "outputs": [
        {
          "output_type": "stream",
          "text": [
            "Collecting pyspellchecker\n",
            "\u001b[?25l  Downloading https://files.pythonhosted.org/packages/64/c7/435f49c0ac6bec031d1aba4daf94dc21dc08a9db329692cdb77faac51cea/pyspellchecker-0.6.2-py3-none-any.whl (2.7MB)\n",
            "\u001b[K     |████████████████████████████████| 2.7MB 9.0MB/s \n",
            "\u001b[?25hInstalling collected packages: pyspellchecker\n",
            "Successfully installed pyspellchecker-0.6.2\n"
          ],
          "name": "stdout"
        }
      ]
    },
    {
      "cell_type": "code",
      "metadata": {
        "id": "NTusYHGwj5wI"
      },
      "source": [
        "from spellchecker import SpellChecker\n",
        "\n",
        "spell = SpellChecker()\n",
        "def correct_spellings(text):\n",
        "    corrected_text = []\n",
        "    misspelled_words = spell.unknown(text.split())\n",
        "    for word in text.split():\n",
        "        if word in misspelled_words:\n",
        "            corrected_text.append(spell.correction(word))\n",
        "        else:\n",
        "            corrected_text.append(word)\n",
        "    return \" \".join(corrected_text)\n",
        "\n",
        "#train['text']=train['text'].apply(lambda x : correct_spellings(x))\n",
        "#train.sample(5)"
      ],
      "execution_count": 29,
      "outputs": []
    },
    {
      "cell_type": "code",
      "metadata": {
        "id": "JYQw0D2aj5yO",
        "outputId": "4895a542-993e-4e9b-978d-44aa69a1c30c",
        "colab": {
          "base_uri": "https://localhost:8080/",
          "height": 35
        }
      },
      "source": [
        "text = 'corrrect me pleas. MY NLP preject is due tomrow'\n",
        "correct_spellings(text)"
      ],
      "execution_count": 34,
      "outputs": [
        {
          "output_type": "execute_result",
          "data": {
            "application/vnd.google.colaboratory.intrinsic+json": {
              "type": "string"
            },
            "text/plain": [
              "'correct me please MY NLP project is due tomorow'"
            ]
          },
          "metadata": {
            "tags": []
          },
          "execution_count": 34
        }
      ]
    },
    {
      "cell_type": "code",
      "metadata": {
        "id": "E2hEPNOLj50i"
      },
      "source": [
        "## Replacing common acronyms\n",
        "\n",
        "def other_clean(text):\n",
        "        \"\"\"\n",
        "            Other manual text cleaning techniques\n",
        "        \"\"\"\n",
        "        # Typos, slang and other\n",
        "        sample_typos_slang = {\n",
        "                                \"w/e\": \"whatever\",\n",
        "                                \"usagov\": \"usa government\",\n",
        "                                \"recentlu\": \"recently\",\n",
        "                                \"ph0tos\": \"photos\",\n",
        "                                \"amirite\": \"am i right\",\n",
        "                                \"exp0sed\": \"exposed\",\n",
        "                                \"<3\": \"love\",\n",
        "                                \"luv\": \"love\",\n",
        "                                \"amageddon\": \"armageddon\",\n",
        "                                \"trfc\": \"traffic\",\n",
        "                                \"16yr\": \"16 year\"\n",
        "                                }\n",
        "\n",
        "        # Acronyms\n",
        "        sample_acronyms =  { \n",
        "                            \"mh370\": \"malaysia airlines flight 370\",\n",
        "                            \"okwx\": \"oklahoma city weather\",\n",
        "                            \"arwx\": \"arkansas weather\",    \n",
        "                            \"gawx\": \"georgia weather\",  \n",
        "                            \"scwx\": \"south carolina weather\",  \n",
        "                            \"cawx\": \"california weather\",\n",
        "                            \"tnwx\": \"tennessee weather\",\n",
        "                            \"azwx\": \"arizona weather\",  \n",
        "                            \"alwx\": \"alabama weather\",\n",
        "                            \"usnwsgov\": \"united states national weather service\",\n",
        "                            \"2mw\": \"tomorrow\"\n",
        "                            }\n",
        "\n",
        "        \n",
        "        # Some common abbreviations \n",
        "        sample_abbr = {\n",
        "                        \"$\" : \" dollar \",\n",
        "                        \"€\" : \" euro \",\n",
        "                        \"4ao\" : \"for adults only\",\n",
        "                        \"a.m\" : \"before midday\",\n",
        "                        \"a3\" : \"anytime anywhere anyplace\",\n",
        "                        \"aamof\" : \"as a matter of fact\",\n",
        "                        \"acct\" : \"account\",\n",
        "                        \"adih\" : \"another day in hell\",\n",
        "                        \"afaic\" : \"as far as i am concerned\",\n",
        "                        \"afaict\" : \"as far as i can tell\",\n",
        "                        \"afaik\" : \"as far as i know\",\n",
        "                        \"afair\" : \"as far as i remember\",\n",
        "                        \"afk\" : \"away from keyboard\",\n",
        "                        \"app\" : \"application\",\n",
        "                        \"approx\" : \"approximately\",\n",
        "                        \"apps\" : \"applications\",\n",
        "                        \"asap\" : \"as soon as possible\",\n",
        "                        \"asl\" : \"age, sex, location\",\n",
        "                        \"atk\" : \"at the keyboard\",\n",
        "                        \"ave.\" : \"avenue\",\n",
        "                        \"aymm\" : \"are you my mother\",\n",
        "                        \"ayor\" : \"at your own risk\", \n",
        "                        \"b&b\" : \"bed and breakfast\",\n",
        "                        \"b+b\" : \"bed and breakfast\",\n",
        "                        \"b.c\" : \"before christ\",\n",
        "                        \"b2b\" : \"business to business\",\n",
        "                        \"b2c\" : \"business to customer\",\n",
        "                        \"b4\" : \"before\",\n",
        "                        \"b4n\" : \"bye for now\",\n",
        "                        \"b@u\" : \"back at you\",\n",
        "                        \"bae\" : \"before anyone else\",\n",
        "                        \"bak\" : \"back at keyboard\",\n",
        "                        \"bbbg\" : \"bye bye be good\",\n",
        "                        \"bbc\" : \"british broadcasting corporation\",\n",
        "                        \"bbias\" : \"be back in a second\",\n",
        "                        \"bbl\" : \"be back later\",\n",
        "                        \"bbs\" : \"be back soon\",\n",
        "                        \"be4\" : \"before\",\n",
        "                        \"bfn\" : \"bye for now\",\n",
        "                        \"blvd\" : \"boulevard\",\n",
        "                        \"bout\" : \"about\",\n",
        "                        \"brb\" : \"be right back\",\n",
        "                        \"bros\" : \"brothers\",\n",
        "                        \"brt\" : \"be right there\",\n",
        "                        \"bsaaw\" : \"big smile and a wink\",\n",
        "                        \"btw\" : \"by the way\",\n",
        "                        \"bwl\" : \"bursting with laughter\",\n",
        "                        \"c/o\" : \"care of\",\n",
        "                        \"cet\" : \"central european time\",\n",
        "                        \"cf\" : \"compare\",\n",
        "                        \"cia\" : \"central intelligence agency\",\n",
        "                        \"csl\" : \"can not stop laughing\",\n",
        "                        \"cu\" : \"see you\",\n",
        "                        \"cul8r\" : \"see you later\",\n",
        "                        \"cv\" : \"curriculum vitae\",\n",
        "                        \"cwot\" : \"complete waste of time\",\n",
        "                        \"cya\" : \"see you\",\n",
        "                        \"cyt\" : \"see you tomorrow\",\n",
        "                        \"dae\" : \"does anyone else\",\n",
        "                        \"dbmib\" : \"do not bother me i am busy\",\n",
        "                        \"diy\" : \"do it yourself\",\n",
        "                        \"dm\" : \"direct message\",\n",
        "                        \"dwh\" : \"during work hours\",\n",
        "                        \"e123\" : \"easy as one two three\",\n",
        "                        \"eet\" : \"eastern european time\",\n",
        "                        \"eg\" : \"example\",\n",
        "                        \"embm\" : \"early morning business meeting\",\n",
        "                        \"encl\" : \"enclosed\",\n",
        "                        \"encl.\" : \"enclosed\",\n",
        "                        \"etc\" : \"and so on\",\n",
        "                        \"faq\" : \"frequently asked questions\",\n",
        "                        \"fawc\" : \"for anyone who cares\",\n",
        "                        \"fb\" : \"facebook\",\n",
        "                        \"fc\" : \"fingers crossed\",\n",
        "                        \"fig\" : \"figure\",\n",
        "                        \"fimh\" : \"forever in my heart\", \n",
        "                        \"ft.\" : \"feet\",\n",
        "                        \"ft\" : \"featuring\",\n",
        "                        \"ftl\" : \"for the loss\",\n",
        "                        \"ftw\" : \"for the win\",\n",
        "                        \"fwiw\" : \"for what it is worth\",\n",
        "                        \"fyi\" : \"for your information\",\n",
        "                        \"g9\" : \"genius\",\n",
        "                        \"gahoy\" : \"get a hold of yourself\",\n",
        "                        \"gal\" : \"get a life\",\n",
        "                        \"gcse\" : \"general certificate of secondary education\",\n",
        "                        \"gfn\" : \"gone for now\",\n",
        "                        \"gg\" : \"good game\",\n",
        "                        \"gl\" : \"good luck\",\n",
        "                        \"glhf\" : \"good luck have fun\",\n",
        "                        \"gmt\" : \"greenwich mean time\",\n",
        "                        \"gmta\" : \"great minds think alike\",\n",
        "                        \"gn\" : \"good night\",\n",
        "                        \"g.o.a.t\" : \"greatest of all time\",\n",
        "                        \"goat\" : \"greatest of all time\",\n",
        "                        \"goi\" : \"get over it\",\n",
        "                        \"gps\" : \"global positioning system\",\n",
        "                        \"gr8\" : \"great\",\n",
        "                        \"gratz\" : \"congratulations\",\n",
        "                        \"gyal\" : \"girl\",\n",
        "                        \"h&c\" : \"hot and cold\",\n",
        "                        \"hp\" : \"horsepower\",\n",
        "                        \"hr\" : \"hour\",\n",
        "                        \"hrh\" : \"his royal highness\",\n",
        "                        \"ht\" : \"height\",\n",
        "                        \"ibrb\" : \"i will be right back\",\n",
        "                        \"ic\" : \"i see\",\n",
        "                        \"icq\" : \"i seek you\",\n",
        "                        \"icymi\" : \"in case you missed it\",\n",
        "                        \"idc\" : \"i do not care\",\n",
        "                        \"idgadf\" : \"i do not give a damn fuck\",\n",
        "                        \"idgaf\" : \"i do not give a fuck\",\n",
        "                        \"idk\" : \"i do not know\",\n",
        "                        \"ie\" : \"that is\",\n",
        "                        \"i.e\" : \"that is\",\n",
        "                        \"ifyp\" : \"i feel your pain\",\n",
        "                        \"IG\" : \"instagram\",\n",
        "                        \"iirc\" : \"if i remember correctly\",\n",
        "                        \"ilu\" : \"i love you\",\n",
        "                        \"ily\" : \"i love you\",\n",
        "                        \"imho\" : \"in my humble opinion\",\n",
        "                        \"imo\" : \"in my opinion\",\n",
        "                        \"imu\" : \"i miss you\",\n",
        "                        \"iow\" : \"in other words\",\n",
        "                        \"irl\" : \"in real life\",\n",
        "                        \"j4f\" : \"just for fun\",\n",
        "                        \"jic\" : \"just in case\",\n",
        "                        \"jk\" : \"just kidding\",\n",
        "                        \"jsyk\" : \"just so you know\",\n",
        "                        \"l8r\" : \"later\",\n",
        "                        \"lb\" : \"pound\",\n",
        "                        \"lbs\" : \"pounds\",\n",
        "                        \"ldr\" : \"long distance relationship\",\n",
        "                        \"lmao\" : \"laugh my ass off\",\n",
        "                        \"lmfao\" : \"laugh my fucking ass off\",\n",
        "                        \"lol\" : \"laughing out loud\",\n",
        "                        \"ltd\" : \"limited\",\n",
        "                        \"ltns\" : \"long time no see\",\n",
        "                        \"m8\" : \"mate\",\n",
        "                        \"mf\" : \"motherfucker\",\n",
        "                        \"mfs\" : \"motherfuckers\",\n",
        "                        \"mfw\" : \"my face when\",\n",
        "                        \"mofo\" : \"motherfucker\",\n",
        "                        \"mph\" : \"miles per hour\",\n",
        "                        \"mr\" : \"mister\",\n",
        "                        \"mrw\" : \"my reaction when\",\n",
        "                        \"ms\" : \"miss\",\n",
        "                        \"mte\" : \"my thoughts exactly\",\n",
        "                        \"nagi\" : \"not a good idea\",\n",
        "                        \"nbc\" : \"national broadcasting company\",\n",
        "                        \"nbd\" : \"not big deal\",\n",
        "                        \"nfs\" : \"not for sale\",\n",
        "                        \"ngl\" : \"not going to lie\",\n",
        "                        \"nhs\" : \"national health service\",\n",
        "                        \"nrn\" : \"no reply necessary\",\n",
        "                        \"nsfl\" : \"not safe for life\",\n",
        "                        \"nsfw\" : \"not safe for work\",\n",
        "                        \"nth\" : \"nice to have\",\n",
        "                        \"nvr\" : \"never\",\n",
        "                        \"nyc\" : \"new york city\",\n",
        "                        \"oc\" : \"original content\",\n",
        "                        \"og\" : \"original\",\n",
        "                        \"ohp\" : \"overhead projector\",\n",
        "                        \"oic\" : \"oh i see\",\n",
        "                        \"omdb\" : \"over my dead body\",\n",
        "                        \"omg\" : \"oh my god\",\n",
        "                        \"omw\" : \"on my way\",\n",
        "                        \"p.a\" : \"per annum\",\n",
        "                        \"p.m\" : \"after midday\",\n",
        "                        \"pm\" : \"prime minister\",\n",
        "                        \"poc\" : \"people of color\",\n",
        "                        \"pov\" : \"point of view\",\n",
        "                        \"pp\" : \"pages\",\n",
        "                        \"ppl\" : \"people\",\n",
        "                        \"prw\" : \"parents are watching\",\n",
        "                        \"ps\" : \"postscript\",\n",
        "                        \"pt\" : \"point\",\n",
        "                        \"ptb\" : \"please text back\",\n",
        "                        \"pto\" : \"please turn over\",\n",
        "                        \"qpsa\" : \"what happens\", #\"que pasa\",\n",
        "                        \"ratchet\" : \"rude\",\n",
        "                        \"rbtl\" : \"read between the lines\",\n",
        "                        \"rlrt\" : \"real life retweet\", \n",
        "                        \"rofl\" : \"rolling on the floor laughing\",\n",
        "                        \"roflol\" : \"rolling on the floor laughing out loud\",\n",
        "                        \"rotflmao\" : \"rolling on the floor laughing my ass off\",\n",
        "                        \"rt\" : \"retweet\",\n",
        "                        \"ruok\" : \"are you ok\",\n",
        "                        \"sfw\" : \"safe for work\",\n",
        "                        \"sk8\" : \"skate\",\n",
        "                        \"smh\" : \"shake my head\",\n",
        "                        \"sq\" : \"square\",\n",
        "                        \"srsly\" : \"seriously\", \n",
        "                        \"ssdd\" : \"same stuff different day\",\n",
        "                        \"tbh\" : \"to be honest\",\n",
        "                        \"tbs\" : \"tablespooful\",\n",
        "                        \"tbsp\" : \"tablespooful\",\n",
        "                        \"tfw\" : \"that feeling when\",\n",
        "                        \"thks\" : \"thank you\",\n",
        "                        \"tho\" : \"though\",\n",
        "                        \"thx\" : \"thank you\",\n",
        "                        \"tia\" : \"thanks in advance\",\n",
        "                        \"til\" : \"today i learned\",\n",
        "                        \"tl;dr\" : \"too long i did not read\",\n",
        "                        \"tldr\" : \"too long i did not read\",\n",
        "                        \"tmb\" : \"tweet me back\",\n",
        "                        \"tntl\" : \"trying not to laugh\",\n",
        "                        \"ttyl\" : \"talk to you later\",\n",
        "                        \"u\" : \"you\",\n",
        "                        \"u2\" : \"you too\",\n",
        "                        \"u4e\" : \"yours for ever\",\n",
        "                        \"utc\" : \"coordinated universal time\",\n",
        "                        \"w/\" : \"with\",\n",
        "                        \"w/o\" : \"without\",\n",
        "                        \"w8\" : \"wait\",\n",
        "                        \"wassup\" : \"what is up\",\n",
        "                        \"wb\" : \"welcome back\",\n",
        "                        \"wtf\" : \"what the fuck\",\n",
        "                        \"wtg\" : \"way to go\",\n",
        "                        \"wtpa\" : \"where the party at\",\n",
        "                        \"wuf\" : \"where are you from\",\n",
        "                        \"wuzup\" : \"what is up\",\n",
        "                        \"wywh\" : \"wish you were here\",\n",
        "                        \"yd\" : \"yard\",\n",
        "                        \"ygtr\" : \"you got that right\",\n",
        "                        \"ynk\" : \"you never know\",\n",
        "                        \"zzz\" : \"sleeping bored and tired\"\n",
        "                        }\n",
        "            \n",
        "        sample_typos_slang_pattern = re.compile(r'(?<!\\w)(' + '|'.join(re.escape(key) for key in sample_typos_slang.keys()) + r')(?!\\w)')\n",
        "        sample_acronyms_pattern = re.compile(r'(?<!\\w)(' + '|'.join(re.escape(key) for key in sample_acronyms.keys()) + r')(?!\\w)')\n",
        "        sample_abbr_pattern = re.compile(r'(?<!\\w)(' + '|'.join(re.escape(key) for key in sample_abbr.keys()) + r')(?!\\w)')\n",
        "        \n",
        "        text = sample_typos_slang_pattern.sub(lambda x: sample_typos_slang[x.group()], text)\n",
        "        text = sample_acronyms_pattern.sub(lambda x: sample_acronyms[x.group()], text)\n",
        "        text = sample_abbr_pattern.sub(lambda x: sample_abbr[x.group()], text)\n",
        "        \n",
        "        return text"
      ],
      "execution_count": 35,
      "outputs": []
    },
    {
      "cell_type": "code",
      "metadata": {
        "id": "EXhuQe_XkK2z",
        "outputId": "233d23af-ead8-40a2-986a-97c6da31206a",
        "colab": {
          "base_uri": "https://localhost:8080/",
          "height": 202
        }
      },
      "source": [
        "## !Need to change variable names and abbrevations as appropriate\n",
        "train[\"text\"] = train[\"text\"].apply(lambda x: other_clean(x))\n",
        "train.sample(5)"
      ],
      "execution_count": 39,
      "outputs": [
        {
          "output_type": "execute_result",
          "data": {
            "text/html": [
              "<div>\n",
              "<style scoped>\n",
              "    .dataframe tbody tr th:only-of-type {\n",
              "        vertical-align: middle;\n",
              "    }\n",
              "\n",
              "    .dataframe tbody tr th {\n",
              "        vertical-align: top;\n",
              "    }\n",
              "\n",
              "    .dataframe thead th {\n",
              "        text-align: right;\n",
              "    }\n",
              "</style>\n",
              "<table border=\"1\" class=\"dataframe\">\n",
              "  <thead>\n",
              "    <tr style=\"text-align: right;\">\n",
              "      <th></th>\n",
              "      <th>id</th>\n",
              "      <th>keyword</th>\n",
              "      <th>location</th>\n",
              "      <th>text</th>\n",
              "      <th>target</th>\n",
              "    </tr>\n",
              "  </thead>\n",
              "  <tbody>\n",
              "    <tr>\n",
              "      <th>3492</th>\n",
              "      <td>4990</td>\n",
              "      <td>explosion</td>\n",
              "      <td>nan</td>\n",
              "      <td>saddle with accountable information explosion ...</td>\n",
              "      <td>0</td>\n",
              "    </tr>\n",
              "    <tr>\n",
              "      <th>2399</th>\n",
              "      <td>3451</td>\n",
              "      <td>derail</td>\n",
              "      <td>washington dc</td>\n",
              "      <td>here s what may have caused a metro train to d...</td>\n",
              "      <td>1</td>\n",
              "    </tr>\n",
              "    <tr>\n",
              "      <th>2842</th>\n",
              "      <td>4087</td>\n",
              "      <td>displaced</td>\n",
              "      <td>new york</td>\n",
              "      <td>40 displaced by ocean township apartment fire ...</td>\n",
              "      <td>1</td>\n",
              "    </tr>\n",
              "    <tr>\n",
              "      <th>5901</th>\n",
              "      <td>8429</td>\n",
              "      <td>sandstorm</td>\n",
              "      <td>nan</td>\n",
              "      <td>watch this airport get swallowed up by a sands...</td>\n",
              "      <td>1</td>\n",
              "    </tr>\n",
              "    <tr>\n",
              "      <th>5531</th>\n",
              "      <td>7889</td>\n",
              "      <td>quarantined</td>\n",
              "      <td>china</td>\n",
              "      <td>top link reddit s new content policy goes into...</td>\n",
              "      <td>0</td>\n",
              "    </tr>\n",
              "  </tbody>\n",
              "</table>\n",
              "</div>"
            ],
            "text/plain": [
              "        id  ... target\n",
              "3492  4990  ...      0\n",
              "2399  3451  ...      1\n",
              "2842  4087  ...      1\n",
              "5901  8429  ...      1\n",
              "5531  7889  ...      0\n",
              "\n",
              "[5 rows x 5 columns]"
            ]
          },
          "metadata": {
            "tags": []
          },
          "execution_count": 39
        }
      ]
    },
    {
      "cell_type": "code",
      "metadata": {
        "id": "hb8JVZubkK40"
      },
      "source": [
        ""
      ],
      "execution_count": 45,
      "outputs": []
    },
    {
      "cell_type": "code",
      "metadata": {
        "id": "XJFG-NYzkK6S"
      },
      "source": [
        "## Removing single characters\n",
        "train[\"text\"] = train[\"text\"].str.replace(r'\\b\\w\\b','').str.replace(r'\\s+', ' ')"
      ],
      "execution_count": 46,
      "outputs": []
    },
    {
      "cell_type": "code",
      "metadata": {
        "id": "pA7F95bp9g3-"
      },
      "source": [
        ""
      ],
      "execution_count": null,
      "outputs": []
    },
    {
      "cell_type": "code",
      "metadata": {
        "id": "InA0iUEGnkPN"
      },
      "source": [
        ""
      ],
      "execution_count": null,
      "outputs": []
    },
    {
      "cell_type": "code",
      "metadata": {
        "id": "enp_UyDbnkRw"
      },
      "source": [
        ""
      ],
      "execution_count": null,
      "outputs": []
    },
    {
      "cell_type": "markdown",
      "metadata": {
        "id": "he7_gMXI9jyl"
      },
      "source": [
        "Viz Ideas:\n",
        "1. Class Distribution\n",
        "2. Word cloud of keywords for both classes\n",
        "3. Bi-gram bar plot (bar plot of most frequently occuring words for both classes)\n",
        "4. Average length of tweet for both classes\n",
        "5. \n",
        "\n",
        "Data processing proposed steps:\n",
        "1. Removal of punctuations, unwanted text\n",
        "2. Performing stemming/lemmatization\n",
        "3. Spell check\n",
        "4. Removing emojis\n",
        "5. Replacing common acronyms/shorhands\n",
        "6.\n",
        "\n",
        "\n",
        "EDA Ideas:\n",
        "1. Clustering Tweets from same location over a short time period - (if many tweets come from the same location in a short time containing keywords for disasters they might actually be a disaster)\n",
        "2. Clustering tweets via keyword - if the same keyword is being used over a short period of time it might mean a disaster\n",
        "3. \n",
        "\n",
        "Models:\n",
        "1. Word2Vec with GloVe\n",
        "2. Simple LSTMs\n",
        "3. LSTMs with Hidden layers\n",
        "4. (Possibly) BERT\n",
        "\n"
      ]
    },
    {
      "cell_type": "code",
      "metadata": {
        "id": "dBp1qk5qAIT-"
      },
      "source": [
        ""
      ],
      "execution_count": null,
      "outputs": []
    },
    {
      "cell_type": "markdown",
      "metadata": {
        "id": "3Y22W1VLAcxh"
      },
      "source": [
        "(Rough sketch)\n",
        "\n",
        "Project doc: (numbers denote page numbers)\n",
        "\n",
        "1. Names, Project title)\n",
        "2. Introduction:\n",
        "What is the problem we're trying to solve, How are we using NLP to solve the problem, Proposed method (in brief) on how we'll solve, Impact of problem on society (use-case irl)\n",
        "3. Dataset used, data cleaning methods (and why it was necessary)\n",
        "4. EDA: \n",
        "5. Visualizations\n",
        "6. Models used (1 page each per model):\n",
        "Explaining the model architecture in brief, why was it best to use this model (or appropriate), what was the model parameters (explain a few if needed), what were the results, and what metrics were used to obtain the resutls\n",
        "9. Conclusions, model comparisons, final words\n",
        "10. Team member contributions\n",
        "\n",
        "\n",
        "\n",
        "\n",
        "\n",
        "\n",
        "\n"
      ]
    },
    {
      "cell_type": "code",
      "metadata": {
        "id": "0n9iOROBAsob"
      },
      "source": [
        ""
      ],
      "execution_count": null,
      "outputs": []
    }
  ]
}